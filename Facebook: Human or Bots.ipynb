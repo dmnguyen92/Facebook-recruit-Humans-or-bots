{
 "cells": [
  {
   "cell_type": "markdown",
   "metadata": {},
   "source": [
    "# Facebook recruit: Human or Bots\n",
    "\n",
    "### Nguyen Dang Minh, PhD \n",
    "\n",
    "* [**1. Introduction**](#ch1)\n",
    "\n",
    "* [**2. Import and greet the data**](#ch2)\n",
    "    * [2.1. The bids data set](#ch2.1)\n",
    "    * [2.2. The train and test set](#ch2.2)\n",
    "    \n",
    "* [**3. Features extraction**](#ch3)\n",
    "    * [3.1. General processing](#ch3.1)\n",
    "    * [3.2. Numbers of bids made](#ch3.2)\n",
    "    * [3.3. Auctions](#ch3.3)\n",
    "    * [3.4. Device, country, IP](#ch3.4)\n",
    "    * [3.5. URL](#ch3.5)\n",
    "    * [3.6. Action time](#3.6)\n",
    "    * [3.7. Reaction time](#3.7)\n",
    "    * [3.8. Merchandise](#3.8)\n",
    "    * [3.9. Finalize the processed data](#3.9)\n",
    "    \n",
    "* [**4. Building the machine learning model**](#ch4)\n",
    "    * [4.1. Viewing the train test set](#ch4.1)\n",
    "    * [4.2. Handling the unbalanced data](#4.2)\n",
    "    * [4.3. Building the models](#ch4.3)\n",
    "    \n",
    "* [**5. Analyze the results**](#ch5)\n",
    "    * [5.1. The ROC curve](#ch5.1)\n",
    "    * [5.2. Features importance](#ch5.2)\n",
    "    * [5.3. Conclusion](#ch5.3)"
   ]
  },
  {
   "cell_type": "markdown",
   "metadata": {},
   "source": [
    "<a id=\"ch1\"></a>\n",
    "\n",
    "## 1. Introduction\n",
    "\n",
    "This is a self-practice project, following the Kaggle's competition [Facebook Recruiting IV: Human or Robot?](https://www.kaggle.com/c/facebook-recruiting-iv-human-or-bot).\n",
    "\n",
    "The concept of the problem is that we have a platform that is organizing online auctions. Here people can conveniently create an account to participate through their phone and make the bids in multiple auctions. However, one issue is that some are trying to win by making bots doing the bidding job. Our task is to identify which account belongs to real people and which are controlled by the bots.\n",
    "\n",
    "\n",
    "<img src='auction.png'/>\n",
    "<center><em> Can we tell which bidders are robots? </em></center>\n",
    "\n",
    "We are provided with three sets of data. The first set is **bids.csv** which contains all information about every bids made, such as bidder ids, auction id, time, device, ip address, etc. The second set is **train.csv** which contains information about bidders who has been identified as human/robot. This is our training data. The last set is **test.csv** where bidders there has not yet been identified and it is our job to classify them. Here the work is divided into two parts. In the first part, we analyze and process the data to extract important features. In the second part, based on the extracted feature, we build a machine learning model to give prediction on the test set and gain insights about the different bidding behaviors of human and robots."
   ]
  },
  {
   "cell_type": "markdown",
   "metadata": {},
   "source": [
    "<a id=\"ch2\"></a>\n",
    "\n",
    "## 2. Import and greet the data"
   ]
  },
  {
   "cell_type": "code",
   "execution_count": 1,
   "metadata": {},
   "outputs": [],
   "source": [
    "# Importing libraries\n",
    "import numpy as np\n",
    "import pandas as pd\n",
    "import matplotlib.pyplot as plt\n",
    "import random\n",
    "from matplotlib import rcParams\n",
    "\n",
    "rcParams['font.size'] = 14"
   ]
  },
  {
   "cell_type": "markdown",
   "metadata": {},
   "source": [
    "<a id=\"ch2.1\"></a>\n",
    "\n",
    "### 2.1. The bids data set\n",
    "\n",
    "Since this notebook is run on a personal computer with limited processing power, **here we use only 1/10 of the data set for visualizing the processing step**. The complete data has been run in full in advance and the results has been stored separately for later calculations."
   ]
  },
  {
   "cell_type": "code",
   "execution_count": 2,
   "metadata": {},
   "outputs": [],
   "source": [
    "# Import 1/10 of the data set\n",
    "random.seed(1)\n",
    "sample_size = int(7.66e6)\n",
    "desired_size = int(sample_size/10)\n",
    "skip = sorted(random.sample(range(2,sample_size),sample_size-desired_size)) \n",
    "bids_orig = pd.read_csv('Data_raw/bids.csv', skiprows = skip)\n",
    "del skip"
   ]
  },
  {
   "cell_type": "code",
   "execution_count": 3,
   "metadata": {},
   "outputs": [
    {
     "data": {
      "text/html": [
       "<div>\n",
       "<style scoped>\n",
       "    .dataframe tbody tr th:only-of-type {\n",
       "        vertical-align: middle;\n",
       "    }\n",
       "\n",
       "    .dataframe tbody tr th {\n",
       "        vertical-align: top;\n",
       "    }\n",
       "\n",
       "    .dataframe thead th {\n",
       "        text-align: right;\n",
       "    }\n",
       "</style>\n",
       "<table border=\"1\" class=\"dataframe\">\n",
       "  <thead>\n",
       "    <tr style=\"text-align: right;\">\n",
       "      <th></th>\n",
       "      <th>bid_id</th>\n",
       "      <th>bidder_id</th>\n",
       "      <th>auction</th>\n",
       "      <th>merchandise</th>\n",
       "      <th>device</th>\n",
       "      <th>time</th>\n",
       "      <th>country</th>\n",
       "      <th>ip</th>\n",
       "      <th>url</th>\n",
       "    </tr>\n",
       "  </thead>\n",
       "  <tbody>\n",
       "    <tr>\n",
       "      <th>0</th>\n",
       "      <td>0</td>\n",
       "      <td>8dac2b259fd1c6d1120e519fb1ac14fbqvax8</td>\n",
       "      <td>ewmzr</td>\n",
       "      <td>jewelry</td>\n",
       "      <td>phone0</td>\n",
       "      <td>9759243157894736</td>\n",
       "      <td>us</td>\n",
       "      <td>69.166.231.58</td>\n",
       "      <td>vasstdc27m7nks3</td>\n",
       "    </tr>\n",
       "    <tr>\n",
       "      <th>1</th>\n",
       "      <td>16</td>\n",
       "      <td>1a9c554b044c77239b63636008d353d4vy9kh</td>\n",
       "      <td>xk5nb</td>\n",
       "      <td>mobile</td>\n",
       "      <td>phone16</td>\n",
       "      <td>9759243263157894</td>\n",
       "      <td>in</td>\n",
       "      <td>130.252.241.92</td>\n",
       "      <td>z0xsd05zh5z8j7l</td>\n",
       "    </tr>\n",
       "    <tr>\n",
       "      <th>2</th>\n",
       "      <td>27</td>\n",
       "      <td>aa5f360084278b35d746fa6af3a7a1a5ra3xe</td>\n",
       "      <td>88xe3</td>\n",
       "      <td>home goods</td>\n",
       "      <td>phone24</td>\n",
       "      <td>9759243315789473</td>\n",
       "      <td>ch</td>\n",
       "      <td>144.203.164.7</td>\n",
       "      <td>526pa711hpwgwta</td>\n",
       "    </tr>\n",
       "    <tr>\n",
       "      <th>3</th>\n",
       "      <td>33</td>\n",
       "      <td>a58ace8b671a7531c88814bc86b2a34cf0crb</td>\n",
       "      <td>cqcep</td>\n",
       "      <td>sporting goods</td>\n",
       "      <td>phone31</td>\n",
       "      <td>9759243315789473</td>\n",
       "      <td>za</td>\n",
       "      <td>220.231.174.196</td>\n",
       "      <td>pq96f16urkbpklz</td>\n",
       "    </tr>\n",
       "    <tr>\n",
       "      <th>4</th>\n",
       "      <td>46</td>\n",
       "      <td>6c8ffec692e88d81e1b18d47818abb04v6llr</td>\n",
       "      <td>ewmzr</td>\n",
       "      <td>home goods</td>\n",
       "      <td>phone8</td>\n",
       "      <td>9759243368421052</td>\n",
       "      <td>us</td>\n",
       "      <td>160.9.191.22</td>\n",
       "      <td>lok9xfe6k6rtv8f</td>\n",
       "    </tr>\n",
       "  </tbody>\n",
       "</table>\n",
       "</div>"
      ],
      "text/plain": [
       "   bid_id                              bidder_id auction     merchandise  \\\n",
       "0       0  8dac2b259fd1c6d1120e519fb1ac14fbqvax8   ewmzr         jewelry   \n",
       "1      16  1a9c554b044c77239b63636008d353d4vy9kh   xk5nb          mobile   \n",
       "2      27  aa5f360084278b35d746fa6af3a7a1a5ra3xe   88xe3      home goods   \n",
       "3      33  a58ace8b671a7531c88814bc86b2a34cf0crb   cqcep  sporting goods   \n",
       "4      46  6c8ffec692e88d81e1b18d47818abb04v6llr   ewmzr      home goods   \n",
       "\n",
       "    device              time country               ip              url  \n",
       "0   phone0  9759243157894736      us    69.166.231.58  vasstdc27m7nks3  \n",
       "1  phone16  9759243263157894      in   130.252.241.92  z0xsd05zh5z8j7l  \n",
       "2  phone24  9759243315789473      ch    144.203.164.7  526pa711hpwgwta  \n",
       "3  phone31  9759243315789473      za  220.231.174.196  pq96f16urkbpklz  \n",
       "4   phone8  9759243368421052      us     160.9.191.22  lok9xfe6k6rtv8f  "
      ]
     },
     "execution_count": 3,
     "metadata": {},
     "output_type": "execute_result"
    }
   ],
   "source": [
    "bids_orig.head()"
   ]
  },
  {
   "cell_type": "code",
   "execution_count": 4,
   "metadata": {},
   "outputs": [
    {
     "data": {
      "text/plain": [
       "['bid_id',\n",
       " 'bidder_id',\n",
       " 'auction',\n",
       " 'merchandise',\n",
       " 'device',\n",
       " 'time',\n",
       " 'country',\n",
       " 'ip',\n",
       " 'url']"
      ]
     },
     "execution_count": 4,
     "metadata": {},
     "output_type": "execute_result"
    }
   ],
   "source": [
    "list(bids_orig)"
   ]
  },
  {
   "cell_type": "code",
   "execution_count": 5,
   "metadata": {},
   "outputs": [
    {
     "name": "stdout",
     "output_type": "stream",
     "text": [
      "Number of bids made: 765619\n"
     ]
    }
   ],
   "source": [
    "print('Number of bids made: %i' %bids_orig['bidder_id'].count())"
   ]
  },
  {
   "cell_type": "code",
   "execution_count": 6,
   "metadata": {},
   "outputs": [
    {
     "name": "stdout",
     "output_type": "stream",
     "text": [
      "Number of bidders: 4371\n"
     ]
    }
   ],
   "source": [
    "print('Number of bidders: %i' %bids_orig['bidder_id'].nunique())"
   ]
  },
  {
   "cell_type": "markdown",
   "metadata": {},
   "source": [
    "In this reduced data set, there are 765619 bids, made by 4371 bidders. With each bids made, the system store the following information:\n",
    "* **`bid_id`**: unique identifier of each bid\n",
    "* **`bidder_id`**: unique identifier of the bidder. This information has been encoded.\n",
    "* **`auction`**: unique identifier of the auction in which the bid was made. A bidder can participate in multiple auctions\n",
    "* **`merchandise`**: product categories that originally guide the bidder to the bidding site. Each bidder only has one type or merchandise.\n",
    "* **`device`**: phone model of the bidder\n",
    "* **`time`**: time that the bid is made. This information has been encoded, but the encoded values is still proportional to the real value.\n",
    "* **`country`**: the country that the IP belongs to\n",
    "* **`ip`**: ip address of the bidder\n",
    "* **`url`**: url of the site where the bidder made the bid"
   ]
  },
  {
   "cell_type": "markdown",
   "metadata": {},
   "source": [
    "<a id=\"ch2.2\"></a>\n",
    "### 2.2. The train and test set"
   ]
  },
  {
   "cell_type": "code",
   "execution_count": 7,
   "metadata": {},
   "outputs": [
    {
     "data": {
      "text/html": [
       "<div>\n",
       "<style scoped>\n",
       "    .dataframe tbody tr th:only-of-type {\n",
       "        vertical-align: middle;\n",
       "    }\n",
       "\n",
       "    .dataframe tbody tr th {\n",
       "        vertical-align: top;\n",
       "    }\n",
       "\n",
       "    .dataframe thead th {\n",
       "        text-align: right;\n",
       "    }\n",
       "</style>\n",
       "<table border=\"1\" class=\"dataframe\">\n",
       "  <thead>\n",
       "    <tr style=\"text-align: right;\">\n",
       "      <th></th>\n",
       "      <th>bidder_id</th>\n",
       "      <th>payment_account</th>\n",
       "      <th>address</th>\n",
       "      <th>outcome</th>\n",
       "    </tr>\n",
       "  </thead>\n",
       "  <tbody>\n",
       "    <tr>\n",
       "      <th>0</th>\n",
       "      <td>91a3c57b13234af24875c56fb7e2b2f4rb56a</td>\n",
       "      <td>a3d2de7675556553a5f08e4c88d2c228754av</td>\n",
       "      <td>a3d2de7675556553a5f08e4c88d2c228vt0u4</td>\n",
       "      <td>0.0</td>\n",
       "    </tr>\n",
       "    <tr>\n",
       "      <th>1</th>\n",
       "      <td>624f258b49e77713fc34034560f93fb3hu3jo</td>\n",
       "      <td>a3d2de7675556553a5f08e4c88d2c228v1sga</td>\n",
       "      <td>ae87054e5a97a8f840a3991d12611fdcrfbq3</td>\n",
       "      <td>0.0</td>\n",
       "    </tr>\n",
       "    <tr>\n",
       "      <th>2</th>\n",
       "      <td>1c5f4fc669099bfbfac515cd26997bd12ruaj</td>\n",
       "      <td>a3d2de7675556553a5f08e4c88d2c2280cybl</td>\n",
       "      <td>92520288b50f03907041887884ba49c0cl0pd</td>\n",
       "      <td>0.0</td>\n",
       "    </tr>\n",
       "    <tr>\n",
       "      <th>3</th>\n",
       "      <td>4bee9aba2abda51bf43d639013d6efe12iycd</td>\n",
       "      <td>51d80e233f7b6a7dfdee484a3c120f3b2ita8</td>\n",
       "      <td>4cb9717c8ad7e88a9a284989dd79b98dbevyi</td>\n",
       "      <td>0.0</td>\n",
       "    </tr>\n",
       "    <tr>\n",
       "      <th>4</th>\n",
       "      <td>4ab12bc61c82ddd9c2d65e60555808acqgos1</td>\n",
       "      <td>a3d2de7675556553a5f08e4c88d2c22857ddh</td>\n",
       "      <td>2a96c3ce94b3be921e0296097b88b56a7x1ji</td>\n",
       "      <td>0.0</td>\n",
       "    </tr>\n",
       "  </tbody>\n",
       "</table>\n",
       "</div>"
      ],
      "text/plain": [
       "                               bidder_id  \\\n",
       "0  91a3c57b13234af24875c56fb7e2b2f4rb56a   \n",
       "1  624f258b49e77713fc34034560f93fb3hu3jo   \n",
       "2  1c5f4fc669099bfbfac515cd26997bd12ruaj   \n",
       "3  4bee9aba2abda51bf43d639013d6efe12iycd   \n",
       "4  4ab12bc61c82ddd9c2d65e60555808acqgos1   \n",
       "\n",
       "                         payment_account  \\\n",
       "0  a3d2de7675556553a5f08e4c88d2c228754av   \n",
       "1  a3d2de7675556553a5f08e4c88d2c228v1sga   \n",
       "2  a3d2de7675556553a5f08e4c88d2c2280cybl   \n",
       "3  51d80e233f7b6a7dfdee484a3c120f3b2ita8   \n",
       "4  a3d2de7675556553a5f08e4c88d2c22857ddh   \n",
       "\n",
       "                                 address  outcome  \n",
       "0  a3d2de7675556553a5f08e4c88d2c228vt0u4      0.0  \n",
       "1  ae87054e5a97a8f840a3991d12611fdcrfbq3      0.0  \n",
       "2  92520288b50f03907041887884ba49c0cl0pd      0.0  \n",
       "3  4cb9717c8ad7e88a9a284989dd79b98dbevyi      0.0  \n",
       "4  2a96c3ce94b3be921e0296097b88b56a7x1ji      0.0  "
      ]
     },
     "execution_count": 7,
     "metadata": {},
     "output_type": "execute_result"
    }
   ],
   "source": [
    "# Import the train set\n",
    "train_orig = pd.read_csv('Data_raw/train.csv')\n",
    "train_orig.head()"
   ]
  },
  {
   "cell_type": "code",
   "execution_count": 8,
   "metadata": {},
   "outputs": [
    {
     "name": "stdout",
     "output_type": "stream",
     "text": [
      "Number of bidders in train sets: 2013\n",
      "Number of unique payment account: 2013\n",
      "Number of unique address: 2013\n"
     ]
    }
   ],
   "source": [
    "print('Number of bidders in train sets: %i' %train_orig['bidder_id'].count())\n",
    "print('Number of unique payment account: %i' %train_orig['payment_account'].nunique())\n",
    "print('Number of unique address: %i' %train_orig['address'].nunique())"
   ]
  },
  {
   "cell_type": "markdown",
   "metadata": {},
   "source": [
    "There are 2013 bidders in the train set. Not every bidder in the train set has made their bid and is presented in the bids data set. Each bidder has an unique **`payment_account`** and **`address`**, thus these two information will not contribute to our analysis and we can ignore them."
   ]
  },
  {
   "cell_type": "code",
   "execution_count": 9,
   "metadata": {},
   "outputs": [],
   "source": [
    "train = train_orig.drop(columns=['payment_account', 'address'])"
   ]
  },
  {
   "cell_type": "markdown",
   "metadata": {},
   "source": [
    "We can also import the test set and process them side by side with the train set for easier processing when building the model."
   ]
  },
  {
   "cell_type": "code",
   "execution_count": 10,
   "metadata": {},
   "outputs": [],
   "source": [
    "# Import test set\n",
    "test_orig = pd.read_csv('Data_raw/test.csv')\n",
    "test = test_orig.drop(columns=['payment_account', 'address'])"
   ]
  },
  {
   "cell_type": "markdown",
   "metadata": {},
   "source": [
    "<a id=\"ch3\"></a>\n",
    "\n",
    "## 3. Features extraction"
   ]
  },
  {
   "cell_type": "markdown",
   "metadata": {},
   "source": [
    "<a id=\"ch3.1\"></a>\n",
    "\n",
    "### 3.1. General processing\n",
    "\n",
    "First let fill all the empty data."
   ]
  },
  {
   "cell_type": "code",
   "execution_count": 11,
   "metadata": {},
   "outputs": [
    {
     "data": {
      "text/plain": [
       "bid_id           0\n",
       "bidder_id        0\n",
       "auction          0\n",
       "merchandise      0\n",
       "device           0\n",
       "time             0\n",
       "country        897\n",
       "ip               0\n",
       "url              0\n",
       "dtype: int64"
      ]
     },
     "execution_count": 11,
     "metadata": {},
     "output_type": "execute_result"
    }
   ],
   "source": [
    "bids_orig.isnull().sum()"
   ]
  },
  {
   "cell_type": "markdown",
   "metadata": {},
   "source": [
    "All small number of bids has their country unidentified. We fill the empty hole with `\"0\"`, indicating another, unidentified country."
   ]
  },
  {
   "cell_type": "code",
   "execution_count": 12,
   "metadata": {},
   "outputs": [],
   "source": [
    "# Fill nan\n",
    "bids_fillna = bids_orig.fillna('0')"
   ]
  },
  {
   "cell_type": "code",
   "execution_count": 13,
   "metadata": {},
   "outputs": [],
   "source": [
    "# Sort bids data by bidder_id and time\n",
    "bids_sorted = bids_fillna.sort_values(by=['bidder_id', 'time'], ascending=[True, True])\n",
    "\n",
    "# Bidder ids\n",
    "bidder_ids = bids_sorted['bidder_id'].unique()"
   ]
  },
  {
   "cell_type": "code",
   "execution_count": 14,
   "metadata": {},
   "outputs": [],
   "source": [
    "# General data extracting and plotting function\n",
    "def plot_distribution(dataframe, nb_show=10, xlabel=None, ylabel='Percent', title=None, percentage=True):\n",
    "    column0 = dataframe.columns[0]\n",
    "    column1 = dataframe.columns[1]\n",
    "    data_plot = dataframe.sort_values(by=column1, ascending=False)\n",
    "    data_plot[column0] = data_plot.apply(lambda x: x[column0][:10], axis=1)\n",
    "    if percentage==True:\n",
    "        data_plot[column1] = data_plot[column1]/data_plot[column1].sum()*100\n",
    "    x = np.arange(nb_show)\n",
    "    plt.figure(figsize=(10,6))\n",
    "    plt.bar(x,data_plot.iloc[:nb_show, 1].values)\n",
    "    plt.xticks(x, data_plot.iloc[:nb_show,0], rotation='vertical')\n",
    "    plt.xlabel(xlabel)\n",
    "    plt.ylabel(ylabel)\n",
    "    plt.title(title)\n",
    "    plt.tight_layout()\n",
    "    \n",
    "def get_data(line, datagrouped, id_list):\n",
    "    if line['bidder_id'] in id_list:\n",
    "        return data_grouped[line['bidder_id']]\n",
    "    else:\n",
    "        return 0"
   ]
  },
  {
   "cell_type": "markdown",
   "metadata": {},
   "source": [
    "<a id=\"ch3.2\"></a>\n",
    "\n",
    "### 3.2. Numbers of bids made"
   ]
  },
  {
   "cell_type": "code",
   "execution_count": 15,
   "metadata": {},
   "outputs": [
    {
     "data": {
      "image/png": "[encoded data removed]",
      "text/plain": [
       "<Figure size 720x432 with 1 Axes>"
      ]
     },
     "metadata": {},
     "output_type": "display_data"
    }
   ],
   "source": [
    "bids_data = bids_sorted[['bidder_id','bid_id']].groupby('bidder_id', as_index=False).count()\n",
    "plot_distribution(bids_data, title='Number of bids', xlabel='Bidder id')"
   ]
  },
  {
   "cell_type": "markdown",
   "metadata": {},
   "source": [
    "There are some major bidders in the platform. Here we extract the first feature:\n",
    "* **`nb_bids`**: the number of bids made in the session\n",
    "\n",
    "If bidders does not exist in bids data then this value is set to be 0"
   ]
  },
  {
   "cell_type": "code",
   "execution_count": 16,
   "metadata": {},
   "outputs": [],
   "source": [
    "# Extract number of bids\n",
    "data_grouped = bids_sorted[['bidder_id','bid_id']].groupby('bidder_id').count()['bid_id']\n",
    "train['nb_bids'] = train.apply(lambda x: get_data(x, data_grouped, bidder_ids), axis=1)\n",
    "test['nb_bids'] = test.apply(lambda x: get_data(x, data_grouped, bidder_ids), axis=1)"
   ]
  },
  {
   "cell_type": "markdown",
   "metadata": {},
   "source": [
    "<a id=\"ch3.3\"></a>\n",
    "\n",
    "### 3.3. Auctions"
   ]
  },
  {
   "cell_type": "code",
   "execution_count": 17,
   "metadata": {},
   "outputs": [
    {
     "name": "stdout",
     "output_type": "stream",
     "text": [
      "Total numbers of auction: 11565\n"
     ]
    },
    {
     "data": {
      "image/png": "[encoded data removed]",
      "text/plain": [
       "<Figure size 720x432 with 1 Axes>"
      ]
     },
     "metadata": {},
     "output_type": "display_data"
    }
   ],
   "source": [
    "auction_data = bids_sorted[['auction','bid_id']].groupby('auction', as_index=False).count()\n",
    "plot_distribution(auction_data, xlabel='Auction id', title='Bids by auction')\n",
    "print('Total numbers of auction: %i' %len(auction_data))"
   ]
  },
  {
   "cell_type": "markdown",
   "metadata": {},
   "source": [
    "Here for each bidder we retrieve the following features:\n",
    "* **`nb_auctions`**: number of auctions taking part in\n",
    "* **`nb_won`**: number of auctions won, defined as the auction we the bidder make the last bid.\n",
    "* **`max_bids`**: maximum number of bids the bidder make in a single auction\n",
    "\n",
    "If bidders does not exist in bids data then these values is set to be 0"
   ]
  },
  {
   "cell_type": "code",
   "execution_count": 18,
   "metadata": {},
   "outputs": [],
   "source": [
    "# Number of auction taking part in\n",
    "data_grouped = bids_sorted[['bidder_id', 'auction']].groupby('bidder_id').nunique()['auction'] \n",
    "train['nb_auctions'] = train.apply(lambda x: get_data(x, data_grouped, bidder_ids), axis=1)\n",
    "test['nb_auctions'] = test.apply(lambda x: get_data(x, data_grouped, bidder_ids), axis=1)\n",
    "\n",
    "# Number of auction won\n",
    "winners = bids_sorted[['bidder_id','auction','time']].sort_values(['auction','time'], ascending=True)\\\n",
    "                .groupby('auction').last()\n",
    "data_grouped = winners.groupby('bidder_id').count()['time']\n",
    "winners_id = winners['bidder_id'].unique()   \n",
    "train['nb_won'] = train.apply(lambda x: get_data(x, data_grouped, winners_id), axis=1)\n",
    "test['nb_won'] = test.apply(lambda x: get_data(x, data_grouped, winners_id), axis=1)\n",
    "\n",
    "# Highest numbers of bid in an auction\n",
    "bids_by_auction = bids_sorted[['bidder_id','auction','bid_id']]\\\n",
    "                .groupby(['bidder_id', 'auction'], as_index=False).count()\n",
    "data_grouped = bids_by_auction.groupby('bidder_id').max()['bid_id']    \n",
    "train['max_bids'] = train.apply(lambda x: get_data(x, data_grouped, bidder_ids), axis=1)\n",
    "test['max_bids'] = test.apply(lambda x: get_data(x, data_grouped, bidder_ids), axis=1)"
   ]
  },
  {
   "cell_type": "markdown",
   "metadata": {},
   "source": [
    "<a id=\"ch3.4\"></a>\n",
    "\n",
    "### 3.4. Device, country, IP\n",
    "\n",
    "The detailed value of these columns are not important. Here we extract the following features:\n",
    "* **`nb_devices`**: number of devices used by this bidder\n",
    "* **`nb_ips`**: number of IP address used by this bidder\n",
    "* **`nb_countries`**: number of countries declared by this bidder\n",
    "\n",
    "If bidders does not exist in bids data then these values is set to be 0"
   ]
  },
  {
   "cell_type": "code",
   "execution_count": 19,
   "metadata": {},
   "outputs": [
    {
     "name": "stdout",
     "output_type": "stream",
     "text": [
      "Total number of countries detected: 191\n"
     ]
    },
    {
     "data": {
      "image/png": "[encoded data removed]",
      "text/plain": [
       "<Figure size 720x432 with 1 Axes>"
      ]
     },
     "metadata": {},
     "output_type": "display_data"
    }
   ],
   "source": [
    "# Number of devices\n",
    "data_grouped = bids_sorted[['bidder_id','device']].groupby('bidder_id').nunique()['device']\n",
    "train['nb_devices'] = train.apply(lambda x: get_data(x, data_grouped, bidder_ids), axis=1)\n",
    "test['nb_devices'] = test.apply(lambda x: get_data(x, data_grouped, bidder_ids), axis=1)\n",
    "\n",
    "# Number of IPs\n",
    "data_grouped = bids_sorted[['bidder_id','ip']].groupby('bidder_id').nunique()['ip'] \n",
    "train['nb_ips'] = train.apply(lambda x: get_data(x, data_grouped, bidder_ids), axis=1)\n",
    "test['nb_ips'] = test.apply(lambda x: get_data(x, data_grouped, bidder_ids), axis=1)\n",
    "\n",
    "# Number of countries\n",
    "country_data = bids_sorted[['country','bid_id']].groupby('country', as_index=False).count()\n",
    "print('Total number of countries detected: %i'%len(country_data))\n",
    "plot_distribution(country_data, xlabel='Country Id', title='Bids by country')\n",
    "\n",
    "data_grouped = bids_sorted[['bidder_id','country']].groupby('bidder_id').nunique()['country']  \n",
    "train['nb_countries'] = train.apply(lambda x: get_data(x, data_grouped, bidder_ids), axis=1)\n",
    "test['nb_countries'] = test.apply(lambda x: get_data(x, data_grouped, bidder_ids), axis=1)\n"
   ]
  },
  {
   "cell_type": "markdown",
   "metadata": {},
   "source": [
    "<a id=\"ch3.5\"></a>\n",
    "\n",
    "### 3.5. URL\n"
   ]
  },
  {
   "cell_type": "code",
   "execution_count": 20,
   "metadata": {},
   "outputs": [
    {
     "name": "stdout",
     "output_type": "stream",
     "text": [
      "Total number of url detected: 246933\n"
     ]
    },
    {
     "data": {
      "image/png": "[encoded data removed]",
      "text/plain": [
       "<Figure size 720x432 with 1 Axes>"
      ]
     },
     "metadata": {},
     "output_type": "display_data"
    }
   ],
   "source": [
    "url_data = bids_sorted[['url','bid_id']].groupby('url', as_index=False).count()\n",
    "print('Total number of url detected: %i'%len(url_data))\n",
    "plot_distribution(url_data, xlabel='URL', title='Bids by url')"
   ]
  },
  {
   "cell_type": "markdown",
   "metadata": {},
   "source": [
    "A lot of bids come from a major URL, most likely belong to the main bidding website. Here we extract the following features:\n",
    "* **`nb_urls`**: number of url used by this bidder\n",
    "* **`ratio_main_url`**: how many bids made by this bidder come from the main url."
   ]
  },
  {
   "cell_type": "code",
   "execution_count": 21,
   "metadata": {},
   "outputs": [],
   "source": [
    "# Number of URL\n",
    "data_grouped = bids_sorted[['bidder_id','url']].groupby('bidder_id').nunique()['url']\n",
    "train['nb_urls'] = train.apply(lambda x: get_data(x, data_grouped, bidder_ids), axis=1)\n",
    "test['nb_urls'] = test.apply(lambda x: get_data(x, data_grouped, bidder_ids), axis=1)\n",
    "\n",
    "# Fraction of URL from the main URL\n",
    "main_url = bids_sorted['url'].value_counts(normalize=True).idxmax()\n",
    "main_url_bids = bids_sorted[bids_sorted['url']==main_url]\n",
    "main_url_bidders = main_url_bids['bidder_id'].unique()\n",
    "data_grouped = main_url_bids[['bidder_id','url']].groupby('bidder_id').count()['url']\n",
    "def ratio_main_url(line, data_grouped, main_url_bidders):\n",
    "    if line['bidder_id'] in main_url_bidders:\n",
    "        return data_grouped[line['bidder_id']]/line['nb_bids']\n",
    "    else:\n",
    "        return 0\n",
    "\n",
    "train['ratio_main_url'] = train.apply(lambda x: ratio_main_url(x, data_grouped, main_url_bidders), axis=1)\n",
    "test['ratio_main_url'] = test.apply(lambda x: ratio_main_url(x, data_grouped, main_url_bidders), axis=1)\n"
   ]
  },
  {
   "cell_type": "markdown",
   "metadata": {},
   "source": [
    "<a id=\"ch3.6\"></a>\n",
    "\n",
    "### 3.6. Action time\n",
    "\n",
    "Action time of a bidder is defined as the time between two consecutive bids of that bidder taking into account all the auctions."
   ]
  },
  {
   "cell_type": "code",
   "execution_count": 41,
   "metadata": {},
   "outputs": [
    {
     "name": "stderr",
     "output_type": "stream",
     "text": [
      "/home/dmdm02/anaconda3/lib/python3.5/site-packages/ipykernel_launcher.py:3: SettingWithCopyWarning: \n",
      "A value is trying to be set on a copy of a slice from a DataFrame.\n",
      "Try using .loc[row_indexer,col_indexer] = value instead\n",
      "\n",
      "See the caveats in the documentation: http://pandas.pydata.org/pandas-docs/stable/indexing.html#indexing-view-versus-copy\n",
      "  This is separate from the ipykernel package so we can avoid doing imports until\n"
     ]
    },
    {
     "data": {
      "image/png": "[encoded data removed]",
      "text/plain": [
       "<Figure size 720x432 with 1 Axes>"
      ]
     },
     "metadata": {},
     "output_type": "display_data"
    }
   ],
   "source": [
    "# Get action time\n",
    "bids_time = bids_sorted[['bidder_id','time']]\n",
    "bids_time['diff'] = bids_sorted[['bidder_id','time']].groupby('bidder_id', as_index=False).diff()\n",
    "bids_time = bids_time.dropna()\n",
    "max_action_time = bids_time['diff'].max()\n",
    "\n",
    "act_time_plot = np.log10(bids_time['diff']+1)\n",
    "plt.figure(figsize=(10,6))\n",
    "plt.hist(act_time_plot, bins=np.arange(0,15,1), density=True, edgecolor='black')\n",
    "plt.xlabel('$log_{10}$(time)')\n",
    "plt.ylabel('Percent')\n",
    "plt.title('Action time')\n",
    "plt.tight_layout()"
   ]
  },
  {
   "cell_type": "markdown",
   "metadata": {},
   "source": [
    "The majority of action time is at the order of $10^{10}$, but there are some bidders that make two bids instantaneously. The hypothesis is that machines should have shorter and more unique action time. Of course, there can be cases that a group of people control the same account to make multiple bids at once. In such case the action time can also be zero. The major bidder that cover 7% of total bids falls into this case: bids a lot and very fast, but still verified as human.\n",
    "\n",
    "Here we retrieve the following information:\n",
    "* **`min_action_time`**: the minimum action time of this bidder. For those who are not in the bids data, this value is set to be maximum.\n",
    "* **`mean_action_time`**: the mean action time of this bidder. For those who are not in the bids data, this value is set to be maximum.\n",
    "* **`unique_action_time`**: the numbers of unique action time of this bidder. For those who are not in bids data, this value is set to be 1."
   ]
  },
  {
   "cell_type": "code",
   "execution_count": 24,
   "metadata": {},
   "outputs": [],
   "source": [
    "# Min action time\n",
    "data_grouped = bids_time[['bidder_id','diff']].groupby('bidder_id').min()['diff']\n",
    "def min_action_time(line, data_grouped, main_url_bidders):\n",
    "    if line['bidder_id'] in data_grouped.index:\n",
    "        return data_grouped[line['bidder_id']]\n",
    "    else:\n",
    "        return max_action_time\n",
    "train['min_action_time'] = train.apply(lambda x: min_action_time(x, data_grouped, bidder_ids), axis=1)\n",
    "test['min_action_time'] = test.apply(lambda x: min_action_time(x, data_grouped, bidder_ids), axis=1)\n",
    "\n",
    "# Mean action time\n",
    "data_grouped = bids_time[['bidder_id','diff']].groupby('bidder_id').mean()['diff']\n",
    "def mean_action_time(line, data_grouped, main_url_bidders):\n",
    "    if line['bidder_id'] in data_grouped.index:\n",
    "        return data_grouped[line['bidder_id']]\n",
    "    else:\n",
    "        return max_action_time\n",
    "train['mean_action_time'] = train.apply(lambda x: mean_action_time(x, data_grouped, bidder_ids), axis=1)\n",
    "test['mean_action_time'] = test.apply(lambda x: mean_action_time(x, data_grouped, bidder_ids), axis=1)\n",
    "\n",
    "# Unique action time\n",
    "data_grouped = bids_time[['bidder_id','diff']].groupby('bidder_id').nunique()['diff']\n",
    "def unique_action_time(line, data_grouped, main_url_bidders):\n",
    "    if line['bidder_id'] in data_grouped.index:\n",
    "        return data_grouped[line['bidder_id']]\n",
    "    else:\n",
    "        return 1\n",
    "train['unique_action_time'] = train.apply(lambda x: unique_action_time(x, data_grouped, bidder_ids), axis=1)\n",
    "test['unique_action_time'] = test.apply(lambda x: unique_action_time(x, data_grouped, bidder_ids), axis=1)"
   ]
  },
  {
   "cell_type": "markdown",
   "metadata": {},
   "source": [
    "<a id=\"ch3.7\"></a>\n",
    "\n",
    "### 3.7. Reaction time\n",
    "\n",
    "Similar to action time, reaction time can be an indicator to differentiate human/robot. Here reaction time is defined as the time it takes for the bidder to react and counter the previous bid make by another bidder in the same auction."
   ]
  },
  {
   "cell_type": "code",
   "execution_count": 38,
   "metadata": {},
   "outputs": [
    {
     "data": {
      "image/png": "[encoded data removed]",
      "text/plain": [
       "<Figure size 720x432 with 1 Axes>"
      ]
     },
     "metadata": {},
     "output_type": "display_data"
    }
   ],
   "source": [
    "bids_time = bids_sorted[['bidder_id','time','auction']].sort_values(by=['auction','time'])\n",
    "bids_time['diff'] = bids_time.groupby('auction', as_index=False).diff()\n",
    "bids_time = bids_time.dropna()\n",
    "max_react_time = bids_time['diff'].max()\n",
    "\n",
    "react_time_plot = np.log10(bids_time['diff']+1)\n",
    "plt.figure(figsize=(10,6))\n",
    "plt.hist(react_time_plot, bins=np.arange(0,15,1), density=True, edgecolor='black')\n",
    "plt.xlabel('$log_{10}$(time)')\n",
    "plt.ylabel('Percent')\n",
    "plt.title('Reaction time')\n",
    "plt.tight_layout()"
   ]
  },
  {
   "cell_type": "markdown",
   "metadata": {},
   "source": [
    "Here we retrieve the following information:\n",
    "* **`min_react_time`**: the minimum reaction time of this bidder. For those who are not in the bids data, this value is set to be maximum.\n",
    "* **`mean_react_time`**: the mean reaction time of this bidder. For those who are not in the bids data, this value is set to be maximum.\n",
    "* **`unique_react_time`**: the numbers of unique reaction time of this bidder. For those who are not in bids data, this value is set to be 1."
   ]
  },
  {
   "cell_type": "code",
   "execution_count": 27,
   "metadata": {},
   "outputs": [],
   "source": [
    "# Min reaction time\n",
    "data_grouped = bids_time[['bidder_id','diff']].groupby('bidder_id').min()['diff']\n",
    "def min_react_time(line, data_grouped, main_url_bidders):\n",
    "    if line['bidder_id'] in data_grouped.index:\n",
    "        return data_grouped[line['bidder_id']]\n",
    "    else:\n",
    "        return max_react_time\n",
    "train['min_react_time'] = train.apply(lambda x: min_react_time(x, data_grouped, bidder_ids), axis=1)\n",
    "test['min_react_time'] = test.apply(lambda x: min_react_time(x, data_grouped, bidder_ids), axis=1)\n",
    "\n",
    "# Mean reaction time\n",
    "data_grouped = bids_time[['bidder_id','diff']].groupby('bidder_id').mean()['diff']\n",
    "def mean_react_time(line, data_grouped, main_url_bidders):\n",
    "    if line['bidder_id'] in data_grouped.index:\n",
    "        return data_grouped[line['bidder_id']]\n",
    "    else:\n",
    "        return max_react_time\n",
    "train['mean_react_time'] = train.apply(lambda x: mean_react_time(x, data_grouped, bidder_ids), axis=1)\n",
    "test['mean_react_time'] = test.apply(lambda x: mean_react_time(x, data_grouped, bidder_ids), axis=1)\n",
    "\n",
    "# Unique reaction time\n",
    "data_grouped = bids_time[['bidder_id','diff']].groupby('bidder_id').nunique()['diff']\n",
    "def unique_react_time(line, data_grouped, main_url_bidders):\n",
    "    if line['bidder_id'] in data_grouped.index:\n",
    "        return data_grouped[line['bidder_id']]\n",
    "    else:\n",
    "        return 1    \n",
    "train['unique_react_time'] = train.apply(lambda x: unique_react_time(x, data_grouped, bidder_ids), axis=1)\n",
    "test['unique_react_time'] = test.apply(lambda x: unique_react_time(x, data_grouped, bidder_ids), axis=1)"
   ]
  },
  {
   "cell_type": "markdown",
   "metadata": {},
   "source": [
    "<a id=\"ch3.8\"></a>\n",
    "\n",
    "### 3.8. Merchandise"
   ]
  },
  {
   "cell_type": "code",
   "execution_count": 28,
   "metadata": {},
   "outputs": [
    {
     "name": "stdout",
     "output_type": "stream",
     "text": [
      "Numbers of merchandise: 10\n"
     ]
    },
    {
     "data": {
      "image/png": "[encoded data removed]",
      "text/plain": [
       "<Figure size 720x432 with 1 Axes>"
      ]
     },
     "metadata": {},
     "output_type": "display_data"
    }
   ],
   "source": [
    "merchandise_data = bids_sorted[['merchandise','bid_id']].groupby('merchandise', as_index=False).count()\n",
    "print('Numbers of merchandise: %i' %len(merchandise_data))\n",
    "plot_distribution(merchandise_data, xlabel='Merchandise', title='Bids by merchandise')"
   ]
  },
  {
   "cell_type": "markdown",
   "metadata": {},
   "source": [
    "Each bidder only has one merchandise. Here we retrieve the following information:\n",
    "* **`merchandise`**: the merchandise of the bidder. If the bidder is not in the bid data, then the value is set to the most popular merchandise, which is mobile."
   ]
  },
  {
   "cell_type": "code",
   "execution_count": 29,
   "metadata": {},
   "outputs": [
    {
     "data": {
      "text/html": [
       "<div>\n",
       "<style scoped>\n",
       "    .dataframe tbody tr th:only-of-type {\n",
       "        vertical-align: middle;\n",
       "    }\n",
       "\n",
       "    .dataframe tbody tr th {\n",
       "        vertical-align: top;\n",
       "    }\n",
       "\n",
       "    .dataframe thead th {\n",
       "        text-align: right;\n",
       "    }\n",
       "</style>\n",
       "<table border=\"1\" class=\"dataframe\">\n",
       "  <thead>\n",
       "    <tr style=\"text-align: right;\">\n",
       "      <th></th>\n",
       "      <th>outcome</th>\n",
       "    </tr>\n",
       "    <tr>\n",
       "      <th>merchandise</th>\n",
       "      <th></th>\n",
       "    </tr>\n",
       "  </thead>\n",
       "  <tbody>\n",
       "    <tr>\n",
       "      <th>computers</th>\n",
       "      <td>0.208333</td>\n",
       "    </tr>\n",
       "    <tr>\n",
       "      <th>sporting goods</th>\n",
       "      <td>0.103586</td>\n",
       "    </tr>\n",
       "    <tr>\n",
       "      <th>home goods</th>\n",
       "      <td>0.095238</td>\n",
       "    </tr>\n",
       "    <tr>\n",
       "      <th>office equipment</th>\n",
       "      <td>0.089888</td>\n",
       "    </tr>\n",
       "    <tr>\n",
       "      <th>books and music</th>\n",
       "      <td>0.089286</td>\n",
       "    </tr>\n",
       "    <tr>\n",
       "      <th>jewelry</th>\n",
       "      <td>0.047809</td>\n",
       "    </tr>\n",
       "    <tr>\n",
       "      <th>mobile</th>\n",
       "      <td>0.029046</td>\n",
       "    </tr>\n",
       "    <tr>\n",
       "      <th>auto parts</th>\n",
       "      <td>0.000000</td>\n",
       "    </tr>\n",
       "    <tr>\n",
       "      <th>clothing</th>\n",
       "      <td>0.000000</td>\n",
       "    </tr>\n",
       "    <tr>\n",
       "      <th>furniture</th>\n",
       "      <td>0.000000</td>\n",
       "    </tr>\n",
       "  </tbody>\n",
       "</table>\n",
       "</div>"
      ],
      "text/plain": [
       "                   outcome\n",
       "merchandise               \n",
       "computers         0.208333\n",
       "sporting goods    0.103586\n",
       "home goods        0.095238\n",
       "office equipment  0.089888\n",
       "books and music   0.089286\n",
       "jewelry           0.047809\n",
       "mobile            0.029046\n",
       "auto parts        0.000000\n",
       "clothing          0.000000\n",
       "furniture         0.000000"
      ]
     },
     "execution_count": 29,
     "metadata": {},
     "output_type": "execute_result"
    }
   ],
   "source": [
    "data_grouped = bids_sorted[['bidder_id','merchandise']].groupby('bidder_id').first()['merchandise']\n",
    "popular_merchandise = data_grouped.value_counts().idxmax()\n",
    "\n",
    "def get_merchandise(line, data_grouped, bidder_ids):\n",
    "    if line['bidder_id'] in data_grouped.index:\n",
    "        return data_grouped[line['bidder_id']]\n",
    "    else:\n",
    "        return popular_merchandise\n",
    "train['merchandise'] = train.apply(lambda x: get_merchandise(x, data_grouped, bidder_ids), axis=1)\n",
    "test['merchandise'] = test.apply(lambda x: get_merchandise(x, data_grouped, bidder_ids), axis=1)\n",
    "train[['outcome','merchandise']].groupby('merchandise').mean().sort_values(by='outcome', ascending=False)"
   ]
  },
  {
   "cell_type": "markdown",
   "metadata": {},
   "source": [
    "There is no robot in auto parts, clothing and furniture. Thus we group them into the same category named 'others', and perform label encoding to this column."
   ]
  },
  {
   "cell_type": "code",
   "execution_count": 33,
   "metadata": {},
   "outputs": [],
   "source": [
    "train_cat = train.replace({'merchandise':['auto parts','furniture','clothing']},'others')\n",
    "train_cat = pd.get_dummies(train_cat, columns=['merchandise'])\n",
    "test_cat = test.replace({'merchandise':['auto parts','furniture','clothing']},'others')\n",
    "test_cat = pd.get_dummies(test_cat, columns=['merchandise'])"
   ]
  },
  {
   "cell_type": "markdown",
   "metadata": {},
   "source": [
    "<a id=\"ch3.9\"></a>\n",
    "\n",
    "### 3.9. Finalize the processed data\n",
    "The processing part has completed. We have retrieve all the information that is needed. Now let's take a look at the processed data:"
   ]
  },
  {
   "cell_type": "code",
   "execution_count": 35,
   "metadata": {},
   "outputs": [
    {
     "data": {
      "text/html": [
       "<div>\n",
       "<style scoped>\n",
       "    .dataframe tbody tr th:only-of-type {\n",
       "        vertical-align: middle;\n",
       "    }\n",
       "\n",
       "    .dataframe tbody tr th {\n",
       "        vertical-align: top;\n",
       "    }\n",
       "\n",
       "    .dataframe thead th {\n",
       "        text-align: right;\n",
       "    }\n",
       "</style>\n",
       "<table border=\"1\" class=\"dataframe\">\n",
       "  <thead>\n",
       "    <tr style=\"text-align: right;\">\n",
       "      <th></th>\n",
       "      <th>bidder_id</th>\n",
       "      <th>outcome</th>\n",
       "      <th>nb_bids</th>\n",
       "      <th>nb_auctions</th>\n",
       "      <th>nb_won</th>\n",
       "      <th>max_bids</th>\n",
       "      <th>nb_devices</th>\n",
       "      <th>nb_ips</th>\n",
       "      <th>nb_countries</th>\n",
       "      <th>nb_urls</th>\n",
       "      <th>...</th>\n",
       "      <th>mean_react_time</th>\n",
       "      <th>unique_react_time</th>\n",
       "      <th>merchandise_books and music</th>\n",
       "      <th>merchandise_computers</th>\n",
       "      <th>merchandise_home goods</th>\n",
       "      <th>merchandise_jewelry</th>\n",
       "      <th>merchandise_mobile</th>\n",
       "      <th>merchandise_office equipment</th>\n",
       "      <th>merchandise_others</th>\n",
       "      <th>merchandise_sporting goods</th>\n",
       "    </tr>\n",
       "  </thead>\n",
       "  <tbody>\n",
       "    <tr>\n",
       "      <th>0</th>\n",
       "      <td>91a3c57b13234af24875c56fb7e2b2f4rb56a</td>\n",
       "      <td>0.0</td>\n",
       "      <td>8</td>\n",
       "      <td>7</td>\n",
       "      <td>1</td>\n",
       "      <td>2</td>\n",
       "      <td>5</td>\n",
       "      <td>7</td>\n",
       "      <td>5</td>\n",
       "      <td>1</td>\n",
       "      <td>...</td>\n",
       "      <td>5.559737e+11</td>\n",
       "      <td>8</td>\n",
       "      <td>0</td>\n",
       "      <td>0</td>\n",
       "      <td>1</td>\n",
       "      <td>0</td>\n",
       "      <td>0</td>\n",
       "      <td>0</td>\n",
       "      <td>0</td>\n",
       "      <td>0</td>\n",
       "    </tr>\n",
       "    <tr>\n",
       "      <th>1</th>\n",
       "      <td>624f258b49e77713fc34034560f93fb3hu3jo</td>\n",
       "      <td>0.0</td>\n",
       "      <td>0</td>\n",
       "      <td>0</td>\n",
       "      <td>0</td>\n",
       "      <td>0</td>\n",
       "      <td>0</td>\n",
       "      <td>0</td>\n",
       "      <td>0</td>\n",
       "      <td>0</td>\n",
       "      <td>...</td>\n",
       "      <td>7.597411e+13</td>\n",
       "      <td>1</td>\n",
       "      <td>0</td>\n",
       "      <td>0</td>\n",
       "      <td>0</td>\n",
       "      <td>0</td>\n",
       "      <td>1</td>\n",
       "      <td>0</td>\n",
       "      <td>0</td>\n",
       "      <td>0</td>\n",
       "    </tr>\n",
       "    <tr>\n",
       "      <th>2</th>\n",
       "      <td>1c5f4fc669099bfbfac515cd26997bd12ruaj</td>\n",
       "      <td>0.0</td>\n",
       "      <td>0</td>\n",
       "      <td>0</td>\n",
       "      <td>0</td>\n",
       "      <td>0</td>\n",
       "      <td>0</td>\n",
       "      <td>0</td>\n",
       "      <td>0</td>\n",
       "      <td>0</td>\n",
       "      <td>...</td>\n",
       "      <td>7.597411e+13</td>\n",
       "      <td>1</td>\n",
       "      <td>0</td>\n",
       "      <td>0</td>\n",
       "      <td>0</td>\n",
       "      <td>0</td>\n",
       "      <td>1</td>\n",
       "      <td>0</td>\n",
       "      <td>0</td>\n",
       "      <td>0</td>\n",
       "    </tr>\n",
       "    <tr>\n",
       "      <th>3</th>\n",
       "      <td>4bee9aba2abda51bf43d639013d6efe12iycd</td>\n",
       "      <td>0.0</td>\n",
       "      <td>0</td>\n",
       "      <td>0</td>\n",
       "      <td>0</td>\n",
       "      <td>0</td>\n",
       "      <td>0</td>\n",
       "      <td>0</td>\n",
       "      <td>0</td>\n",
       "      <td>0</td>\n",
       "      <td>...</td>\n",
       "      <td>7.597411e+13</td>\n",
       "      <td>1</td>\n",
       "      <td>0</td>\n",
       "      <td>0</td>\n",
       "      <td>0</td>\n",
       "      <td>0</td>\n",
       "      <td>1</td>\n",
       "      <td>0</td>\n",
       "      <td>0</td>\n",
       "      <td>0</td>\n",
       "    </tr>\n",
       "    <tr>\n",
       "      <th>4</th>\n",
       "      <td>4ab12bc61c82ddd9c2d65e60555808acqgos1</td>\n",
       "      <td>0.0</td>\n",
       "      <td>13</td>\n",
       "      <td>9</td>\n",
       "      <td>0</td>\n",
       "      <td>3</td>\n",
       "      <td>10</td>\n",
       "      <td>13</td>\n",
       "      <td>1</td>\n",
       "      <td>9</td>\n",
       "      <td>...</td>\n",
       "      <td>8.846154e+09</td>\n",
       "      <td>12</td>\n",
       "      <td>0</td>\n",
       "      <td>0</td>\n",
       "      <td>0</td>\n",
       "      <td>0</td>\n",
       "      <td>0</td>\n",
       "      <td>1</td>\n",
       "      <td>0</td>\n",
       "      <td>0</td>\n",
       "    </tr>\n",
       "  </tbody>\n",
       "</table>\n",
       "<p>5 rows × 25 columns</p>\n",
       "</div>"
      ],
      "text/plain": [
       "                               bidder_id  outcome  nb_bids  nb_auctions  \\\n",
       "0  91a3c57b13234af24875c56fb7e2b2f4rb56a      0.0        8            7   \n",
       "1  624f258b49e77713fc34034560f93fb3hu3jo      0.0        0            0   \n",
       "2  1c5f4fc669099bfbfac515cd26997bd12ruaj      0.0        0            0   \n",
       "3  4bee9aba2abda51bf43d639013d6efe12iycd      0.0        0            0   \n",
       "4  4ab12bc61c82ddd9c2d65e60555808acqgos1      0.0       13            9   \n",
       "\n",
       "   nb_won  max_bids  nb_devices  nb_ips  nb_countries  nb_urls  \\\n",
       "0       1         2           5       7             5        1   \n",
       "1       0         0           0       0             0        0   \n",
       "2       0         0           0       0             0        0   \n",
       "3       0         0           0       0             0        0   \n",
       "4       0         3          10      13             1        9   \n",
       "\n",
       "              ...              mean_react_time  unique_react_time  \\\n",
       "0             ...                 5.559737e+11                  8   \n",
       "1             ...                 7.597411e+13                  1   \n",
       "2             ...                 7.597411e+13                  1   \n",
       "3             ...                 7.597411e+13                  1   \n",
       "4             ...                 8.846154e+09                 12   \n",
       "\n",
       "   merchandise_books and music  merchandise_computers  merchandise_home goods  \\\n",
       "0                            0                      0                       1   \n",
       "1                            0                      0                       0   \n",
       "2                            0                      0                       0   \n",
       "3                            0                      0                       0   \n",
       "4                            0                      0                       0   \n",
       "\n",
       "   merchandise_jewelry  merchandise_mobile  merchandise_office equipment  \\\n",
       "0                    0                   0                             0   \n",
       "1                    0                   1                             0   \n",
       "2                    0                   1                             0   \n",
       "3                    0                   1                             0   \n",
       "4                    0                   0                             1   \n",
       "\n",
       "   merchandise_others  merchandise_sporting goods  \n",
       "0                   0                           0  \n",
       "1                   0                           0  \n",
       "2                   0                           0  \n",
       "3                   0                           0  \n",
       "4                   0                           0  \n",
       "\n",
       "[5 rows x 25 columns]"
      ]
     },
     "execution_count": 35,
     "metadata": {},
     "output_type": "execute_result"
    }
   ],
   "source": [
    "train_cat.head()"
   ]
  },
  {
   "cell_type": "markdown",
   "metadata": {},
   "source": [
    "Each bidder has 23 features that decides on the outcome. These processed data is then saved to a file for later processing step."
   ]
  },
  {
   "cell_type": "code",
   "execution_count": 39,
   "metadata": {},
   "outputs": [],
   "source": [
    "train_cat.to_csv('train.csv', index=False)\n",
    "test_cat.to_csv('test.csv', index=False)"
   ]
  },
  {
   "cell_type": "markdown",
   "metadata": {},
   "source": [
    "The full data set has been preprocessed and saved. Now let's import it here:"
   ]
  },
  {
   "cell_type": "code",
   "execution_count": 2,
   "metadata": {},
   "outputs": [],
   "source": [
    "train = pd.read_csv('Data_processed/train.csv')\n",
    "test = pd.read_csv('Data_processed/test.csv')"
   ]
  },
  {
   "cell_type": "markdown",
   "metadata": {},
   "source": [
    "Brief look on the potential contribution of each feature onto the final prediction"
   ]
  },
  {
   "cell_type": "code",
   "execution_count": 6,
   "metadata": {},
   "outputs": [
    {
     "data": {
      "text/html": [
       "<div>\n",
       "<style scoped>\n",
       "    .dataframe tbody tr th:only-of-type {\n",
       "        vertical-align: middle;\n",
       "    }\n",
       "\n",
       "    .dataframe tbody tr th {\n",
       "        vertical-align: top;\n",
       "    }\n",
       "\n",
       "    .dataframe thead th {\n",
       "        text-align: right;\n",
       "    }\n",
       "</style>\n",
       "<table border=\"1\" class=\"dataframe\">\n",
       "  <thead>\n",
       "    <tr style=\"text-align: right;\">\n",
       "      <th></th>\n",
       "      <th>Human</th>\n",
       "      <th>Robot</th>\n",
       "      <th>Comment</th>\n",
       "    </tr>\n",
       "  </thead>\n",
       "  <tbody>\n",
       "    <tr>\n",
       "      <th>nb_bids</th>\n",
       "      <td>1.392046e+03</td>\n",
       "      <td>4.004039e+03</td>\n",
       "      <td>Differentiator</td>\n",
       "    </tr>\n",
       "    <tr>\n",
       "      <th>nb_auctions</th>\n",
       "      <td>5.718901e+01</td>\n",
       "      <td>1.450388e+02</td>\n",
       "      <td>Differentiator</td>\n",
       "    </tr>\n",
       "    <tr>\n",
       "      <th>nb_won</th>\n",
       "      <td>2.627749e+00</td>\n",
       "      <td>7.854369e+00</td>\n",
       "      <td>Differentiator</td>\n",
       "    </tr>\n",
       "    <tr>\n",
       "      <th>max_bids</th>\n",
       "      <td>1.982120e+02</td>\n",
       "      <td>9.745049e+02</td>\n",
       "      <td>Differentiator</td>\n",
       "    </tr>\n",
       "    <tr>\n",
       "      <th>nb_devices</th>\n",
       "      <td>7.282461e+01</td>\n",
       "      <td>1.636117e+02</td>\n",
       "      <td>Not sure</td>\n",
       "    </tr>\n",
       "    <tr>\n",
       "      <th>nb_ips</th>\n",
       "      <td>5.724309e+02</td>\n",
       "      <td>2.387796e+03</td>\n",
       "      <td>Differentiator</td>\n",
       "    </tr>\n",
       "    <tr>\n",
       "      <th>nb_countries</th>\n",
       "      <td>1.248429e+01</td>\n",
       "      <td>2.647573e+01</td>\n",
       "      <td>Not sure</td>\n",
       "    </tr>\n",
       "    <tr>\n",
       "      <th>nb_urls</th>\n",
       "      <td>3.300979e+02</td>\n",
       "      <td>5.445825e+02</td>\n",
       "      <td>Not sure</td>\n",
       "    </tr>\n",
       "    <tr>\n",
       "      <th>ratio_main_url</th>\n",
       "      <td>3.917152e-01</td>\n",
       "      <td>3.824792e-01</td>\n",
       "      <td>Not sure</td>\n",
       "    </tr>\n",
       "    <tr>\n",
       "      <th>min_action_time</th>\n",
       "      <td>1.396811e+13</td>\n",
       "      <td>3.694394e+12</td>\n",
       "      <td>Differentiator</td>\n",
       "    </tr>\n",
       "    <tr>\n",
       "      <th>mean_action_time</th>\n",
       "      <td>1.580492e+13</td>\n",
       "      <td>3.745053e+12</td>\n",
       "      <td>Differentiator</td>\n",
       "    </tr>\n",
       "    <tr>\n",
       "      <th>unique_action_time</th>\n",
       "      <td>1.226497e+02</td>\n",
       "      <td>3.452233e+02</td>\n",
       "      <td>Differentiator</td>\n",
       "    </tr>\n",
       "    <tr>\n",
       "      <th>min_react_time</th>\n",
       "      <td>1.192481e+12</td>\n",
       "      <td>1.839550e+07</td>\n",
       "      <td>Differentiator</td>\n",
       "    </tr>\n",
       "    <tr>\n",
       "      <th>mean_react_time</th>\n",
       "      <td>1.266245e+12</td>\n",
       "      <td>3.909576e+10</td>\n",
       "      <td>Differentiator</td>\n",
       "    </tr>\n",
       "    <tr>\n",
       "      <th>unique_react_time</th>\n",
       "      <td>1.574272e+02</td>\n",
       "      <td>5.381748e+02</td>\n",
       "      <td>Differentiator</td>\n",
       "    </tr>\n",
       "  </tbody>\n",
       "</table>\n",
       "</div>"
      ],
      "text/plain": [
       "                           Human         Robot         Comment\n",
       "nb_bids             1.392046e+03  4.004039e+03  Differentiator\n",
       "nb_auctions         5.718901e+01  1.450388e+02  Differentiator\n",
       "nb_won              2.627749e+00  7.854369e+00  Differentiator\n",
       "max_bids            1.982120e+02  9.745049e+02  Differentiator\n",
       "nb_devices          7.282461e+01  1.636117e+02        Not sure\n",
       "nb_ips              5.724309e+02  2.387796e+03  Differentiator\n",
       "nb_countries        1.248429e+01  2.647573e+01        Not sure\n",
       "nb_urls             3.300979e+02  5.445825e+02        Not sure\n",
       "ratio_main_url      3.917152e-01  3.824792e-01        Not sure\n",
       "min_action_time     1.396811e+13  3.694394e+12  Differentiator\n",
       "mean_action_time    1.580492e+13  3.745053e+12  Differentiator\n",
       "unique_action_time  1.226497e+02  3.452233e+02  Differentiator\n",
       "min_react_time      1.192481e+12  1.839550e+07  Differentiator\n",
       "mean_react_time     1.266245e+12  3.909576e+10  Differentiator\n",
       "unique_react_time   1.574272e+02  5.381748e+02  Differentiator"
      ]
     },
     "execution_count": 6,
     "metadata": {},
     "output_type": "execute_result"
    }
   ],
   "source": [
    "train_compare = train.iloc[:,1:17]\n",
    "compare_table = train_compare.groupby('outcome').mean().transpose()\n",
    "compare_table.columns = ['Human','Robot']\n",
    "def comment(line):\n",
    "    x = line['Human']/line['Robot']\n",
    "    if x>2.5 or x<1/2.5:\n",
    "        return \"Differentiator\"\n",
    "    else:\n",
    "        return \"Not sure\"\n",
    "    \n",
    "compare_table['Comment'] = compare_table.apply(lambda x: comment(x), axis=1)\n",
    "compare_table.head(17)"
   ]
  },
  {
   "cell_type": "markdown",
   "metadata": {},
   "source": [
    "<a id=\"ch4\"></a>\n",
    "\n",
    "## 4. Building the machine learning model"
   ]
  },
  {
   "cell_type": "code",
   "execution_count": 9,
   "metadata": {},
   "outputs": [],
   "source": [
    "# Importing libraries\n",
    "import warnings\n",
    "warnings.filterwarnings(action='ignore', category=DeprecationWarning)\n",
    "\n",
    "from xgboost import XGBClassifier\n",
    "from sklearn.model_selection import train_test_split, GridSearchCV\n",
    "from sklearn.metrics import confusion_matrix, roc_curve, auc\n",
    "from sklearn.utils import resample, class_weight\n",
    "from sklearn.ensemble import RandomForestClassifier\n",
    "import scikitplot as skplt\n",
    "import time"
   ]
  },
  {
   "cell_type": "markdown",
   "metadata": {},
   "source": [
    "<a id=\"ch4.1\"></a>\n",
    "\n",
    "### 4.1. Viewing the train and test set\n",
    "Let's review the processed data set"
   ]
  },
  {
   "cell_type": "code",
   "execution_count": 4,
   "metadata": {},
   "outputs": [
    {
     "name": "stdout",
     "output_type": "stream",
     "text": [
      "Number of bidders in train set: 2013\n",
      "Number of bidders in test set: 4700\n",
      "Number of train bidders not in bids data set 29\n",
      "Number of test bidders not in bids data set 70\n"
     ]
    }
   ],
   "source": [
    "print('Number of bidders in train set: %i' %train['bidder_id'].nunique())\n",
    "print('Number of bidders in test set: %i' %test['bidder_id'].nunique())\n",
    "print('Number of train bidders not in bids data set %i' %len(train[train['nb_bids']==0]))\n",
    "print('Number of test bidders not in bids data set %i' %len(test[test['nb_bids']==0]))"
   ]
  },
  {
   "cell_type": "markdown",
   "metadata": {},
   "source": [
    "About 1.5% of the bidders have not made any bids. Prediction regardings these bidders is therefore not reliable. We thus expect accuracy level of at most 98.5%."
   ]
  },
  {
   "cell_type": "code",
   "execution_count": 5,
   "metadata": {},
   "outputs": [
    {
     "data": {
      "text/plain": [
       "0.0    1910\n",
       "1.0     103\n",
       "Name: outcome, dtype: int64"
      ]
     },
     "execution_count": 5,
     "metadata": {},
     "output_type": "execute_result"
    }
   ],
   "source": [
    "train['outcome'].value_counts()"
   ]
  },
  {
   "cell_type": "markdown",
   "metadata": {},
   "source": [
    "This is an **unbalanced dataset** where class '0' - human dominates class '1' - robots in the training data. This leads to one possibility that the algorithm can just naively predict all bidders to be human to achieve a high training accuracy of 95%. To avoid this problem, we propose two solutions:\n",
    "* **Modeling**: using ensemble models such as Random Forest Classification or XGBoost which is less sensitive to imbalanced data set.\n",
    "* **Resampling**: Duplicate the samples of the minority class (robots) to match that of the majority class.\n",
    "\n",
    "Depending on the business goal, other solutions can be applied. For example, one might change the classification threshold (default is 0.5) to ensure low false negative rate at the cost of high false positive rate. In other words, we can enforce the algorithm not to miss any robot at the cost of falsely identify human as robots."
   ]
  },
  {
   "cell_type": "markdown",
   "metadata": {},
   "source": [
    "<a id=\"ch4.2\"></a>\n",
    "\n",
    "### 4.2. Handling the unbalanced data\n",
    "\n",
    "We need to split the train - validation dataset before making upsample. This is to make sure the validation set is left untouched and no training data has ever seen them."
   ]
  },
  {
   "cell_type": "code",
   "execution_count": 6,
   "metadata": {},
   "outputs": [
    {
     "name": "stderr",
     "output_type": "stream",
     "text": [
      "/home/dmdm02/anaconda3/lib/python3.5/site-packages/ipykernel_launcher.py:8: UserWarning: Boolean Series key will be reindexed to match DataFrame index.\n",
      "  \n",
      "/home/dmdm02/anaconda3/lib/python3.5/site-packages/ipykernel_launcher.py:9: UserWarning: Boolean Series key will be reindexed to match DataFrame index.\n",
      "  if __name__ == '__main__':\n"
     ]
    }
   ],
   "source": [
    "# Split the data frame to train-validation set\n",
    "np.random.seed(1)\n",
    "msk = np.random.rand(len(train)) < 0.8\n",
    "train_df = train[msk]\n",
    "val_df = train[~msk]\n",
    "\n",
    "# Upsample\n",
    "train_minor = train_df[train['outcome']==1]\n",
    "train_major = train_df[train['outcome']==0]\n",
    "n_up = len(train_major)\n",
    "train_minor_upsampled = resample(train_minor, replace=True, n_samples=n_up, random_state=1)\n",
    "train_upsampled = pd.concat([train_major, train_minor_upsampled])\n",
    "train_upsampled['outcome'].value_counts()\n",
    "\n",
    "# Extract array from dataframe\n",
    "X_train = train_upsampled.iloc[:,2:].values\n",
    "Y_train = train_upsampled.iloc[:,1].values\n",
    "X_val = val_df.iloc[:,2:].values\n",
    "Y_val = val_df.iloc[:,1].values\n",
    "\n",
    "training_data = (X_train, X_val, Y_train, Y_val)"
   ]
  },
  {
   "cell_type": "markdown",
   "metadata": {},
   "source": [
    "<a id=\"ch4.3\"></a>\n",
    "\n",
    "### 4.3. Building the models\n",
    "\n",
    "Here we XGBoost use two algorithm: Random Forest Classification and XGBoost. We also apply a simple K-Fold cross-validation and parameter tuning."
   ]
  },
  {
   "cell_type": "code",
   "execution_count": 10,
   "metadata": {},
   "outputs": [],
   "source": [
    "# General models\n",
    "def do_classifiy(training_data, classifier, parameters, cv=5, print_run=False):\n",
    "    X_train, X_val, Y_train, Y_val = training_data\n",
    "    gs = GridSearchCV(classifier, param_grid=parameters, cv=cv)\n",
    "    start_time = time.time()\n",
    "    gs.fit(X_train,Y_train)\n",
    "    print('Best score: %f, using: %s' %(gs.best_score_, gs.best_params_))\n",
    "    print('Total run time: %s seconds' %(time.time()-start_time))\n",
    "    clf_best = gs.best_estimator_\n",
    "    \n",
    "    if print_run==True:\n",
    "        means = gs.cv_results_['mean_test_score']\n",
    "        stds = gs.cv_results_['std_test_score']\n",
    "        params = gs.cv_results_['params']\n",
    "        for mean, std, param in zip(means, stds, params):\n",
    "            print('Test score: %f, std: %f, using %s' %(mean, std, param))\n",
    "    \n",
    "    grid_score = gs.best_score_\n",
    "    acc_score = clf_best.score(X_val, Y_val)\n",
    "    print('Best train score: %f' %grid_score)\n",
    "    print('Validation score: %f' %acc_score)\n",
    "    return clf_best, grid_score, acc_score"
   ]
  },
  {
   "cell_type": "markdown",
   "metadata": {},
   "source": [
    "** XGBoost **"
   ]
  },
  {
   "cell_type": "code",
   "execution_count": 11,
   "metadata": {},
   "outputs": [
    {
     "name": "stdout",
     "output_type": "stream",
     "text": [
      "Best score: 0.982597, using: {'max_depth': 7, 'min_child_weight': 1}\n",
      "Total run time: 16.123281717300415 seconds\n",
      "Best train score: 0.982597\n",
      "Validation score: 0.956422\n"
     ]
    }
   ],
   "source": [
    "clf_XGB = XGBClassifier()\n",
    "parameters = {'max_depth':[3,5,7,10],\n",
    "              'min_child_weight':[1,3,5]}\n",
    "clf_XGB, train_score_XGB, val_score_XGB = do_classifiy(training_data, clf_XGB, parameters)"
   ]
  },
  {
   "cell_type": "markdown",
   "metadata": {},
   "source": [
    "** Random Forest **"
   ]
  },
  {
   "cell_type": "code",
   "execution_count": 12,
   "metadata": {},
   "outputs": [
    {
     "name": "stdout",
     "output_type": "stream",
     "text": [
      "Best score: 0.992637, using: {'n_estimators': 30, 'min_samples_split': 3}\n",
      "Total run time: 3.471219062805176 seconds\n",
      "Best train score: 0.992637\n",
      "Validation score: 0.961009\n"
     ]
    }
   ],
   "source": [
    "clf_rf = RandomForestClassifier()\n",
    "parameters = {'n_estimators':[10,20,30],\n",
    "              'min_samples_split':[2,3,4,5]}\n",
    "clf_rf, train_score_rf, val_score_rf = do_classifiy(training_data, clf_rf, parameters)"
   ]
  },
  {
   "cell_type": "markdown",
   "metadata": {},
   "source": [
    "Random forest gives slightly better score, but after further analysis, we see that they are biased to predict most bidders as human to achieve better accuracy. We thus choose XGBoost as our algorithm"
   ]
  },
  {
   "cell_type": "code",
   "execution_count": 13,
   "metadata": {},
   "outputs": [],
   "source": [
    "clf_chosen = clf_XGB"
   ]
  },
  {
   "cell_type": "markdown",
   "metadata": {},
   "source": [
    "<a id=\"ch5\"></a>\n",
    "\n",
    "## 5. Analyze the results\n",
    "\n",
    "<a id=\"ch5.1\"></a>\n",
    "\n",
    "### 5.1. The ROC curve\n",
    "\n",
    "First let's take a look at the confusion table"
   ]
  },
  {
   "cell_type": "code",
   "execution_count": 14,
   "metadata": {},
   "outputs": [
    {
     "data": {
      "text/html": [
       "<div>\n",
       "<style scoped>\n",
       "    .dataframe tbody tr th:only-of-type {\n",
       "        vertical-align: middle;\n",
       "    }\n",
       "\n",
       "    .dataframe tbody tr th {\n",
       "        vertical-align: top;\n",
       "    }\n",
       "\n",
       "    .dataframe thead th {\n",
       "        text-align: right;\n",
       "    }\n",
       "</style>\n",
       "<table border=\"1\" class=\"dataframe\">\n",
       "  <thead>\n",
       "    <tr style=\"text-align: right;\">\n",
       "      <th>Predicted</th>\n",
       "      <th>0.0</th>\n",
       "      <th>1.0</th>\n",
       "    </tr>\n",
       "    <tr>\n",
       "      <th>Actual</th>\n",
       "      <th></th>\n",
       "      <th></th>\n",
       "    </tr>\n",
       "  </thead>\n",
       "  <tbody>\n",
       "    <tr>\n",
       "      <th>0.0</th>\n",
       "      <td>408</td>\n",
       "      <td>8</td>\n",
       "    </tr>\n",
       "    <tr>\n",
       "      <th>1.0</th>\n",
       "      <td>11</td>\n",
       "      <td>9</td>\n",
       "    </tr>\n",
       "  </tbody>\n",
       "</table>\n",
       "</div>"
      ],
      "text/plain": [
       "Predicted  0.0  1.0\n",
       "Actual             \n",
       "0.0        408    8\n",
       "1.0         11    9"
      ]
     },
     "execution_count": 14,
     "metadata": {},
     "output_type": "execute_result"
    }
   ],
   "source": [
    "# Plot confusion table\n",
    "Y_pred = clf_chosen.predict(X_val).reshape(-1)\n",
    "Y_pred_proba = clf_chosen.predict_proba(X_val)\n",
    "df_confusion = pd.crosstab(pd.Series(Y_val, name='Actual'), pd.Series(Y_pred,name='Predicted'))\n",
    "df_confusion"
   ]
  },
  {
   "cell_type": "markdown",
   "metadata": {},
   "source": [
    "We have a high true positive rate when predicting human, but still encounter signficant false negative rate. Let's look at the robot data the is wrongly predicted"
   ]
  },
  {
   "cell_type": "code",
   "execution_count": 17,
   "metadata": {},
   "outputs": [
    {
     "data": {
      "text/html": [
       "<div>\n",
       "<style scoped>\n",
       "    .dataframe tbody tr th:only-of-type {\n",
       "        vertical-align: middle;\n",
       "    }\n",
       "\n",
       "    .dataframe tbody tr th {\n",
       "        vertical-align: top;\n",
       "    }\n",
       "\n",
       "    .dataframe thead th {\n",
       "        text-align: right;\n",
       "    }\n",
       "</style>\n",
       "<table border=\"1\" class=\"dataframe\">\n",
       "  <thead>\n",
       "    <tr style=\"text-align: right;\">\n",
       "      <th></th>\n",
       "      <th>bidder_id</th>\n",
       "      <th>outcome</th>\n",
       "      <th>nb_bids</th>\n",
       "      <th>nb_auctions</th>\n",
       "      <th>nb_won</th>\n",
       "      <th>max_bids</th>\n",
       "      <th>nb_devices</th>\n",
       "      <th>nb_ips</th>\n",
       "      <th>nb_countries</th>\n",
       "      <th>nb_urls</th>\n",
       "      <th>...</th>\n",
       "      <th>mean_react_time</th>\n",
       "      <th>unique_react_time</th>\n",
       "      <th>merchandise_books and music</th>\n",
       "      <th>merchandise_computers</th>\n",
       "      <th>merchandise_home goods</th>\n",
       "      <th>merchandise_jewelry</th>\n",
       "      <th>merchandise_mobile</th>\n",
       "      <th>merchandise_office equipment</th>\n",
       "      <th>merchandise_others</th>\n",
       "      <th>merchandise_sporting goods</th>\n",
       "    </tr>\n",
       "  </thead>\n",
       "  <tbody>\n",
       "    <tr>\n",
       "      <th>21</th>\n",
       "      <td>5354c02817e47f28e60e44a40ca5e48dll4sz</td>\n",
       "      <td>1.0</td>\n",
       "      <td>181</td>\n",
       "      <td>18</td>\n",
       "      <td>0</td>\n",
       "      <td>20</td>\n",
       "      <td>51</td>\n",
       "      <td>13</td>\n",
       "      <td>7</td>\n",
       "      <td>1</td>\n",
       "      <td>...</td>\n",
       "      <td>1.291073e+09</td>\n",
       "      <td>73</td>\n",
       "      <td>0</td>\n",
       "      <td>0</td>\n",
       "      <td>0</td>\n",
       "      <td>0</td>\n",
       "      <td>1</td>\n",
       "      <td>0</td>\n",
       "      <td>0</td>\n",
       "      <td>0</td>\n",
       "    </tr>\n",
       "    <tr>\n",
       "      <th>136</th>\n",
       "      <td>5960fc711b544e2617d0f76360b69e2afds2b</td>\n",
       "      <td>0.0</td>\n",
       "      <td>1</td>\n",
       "      <td>1</td>\n",
       "      <td>0</td>\n",
       "      <td>1</td>\n",
       "      <td>1</td>\n",
       "      <td>1</td>\n",
       "      <td>1</td>\n",
       "      <td>1</td>\n",
       "      <td>...</td>\n",
       "      <td>0.000000e+00</td>\n",
       "      <td>1</td>\n",
       "      <td>0</td>\n",
       "      <td>0</td>\n",
       "      <td>0</td>\n",
       "      <td>0</td>\n",
       "      <td>0</td>\n",
       "      <td>0</td>\n",
       "      <td>0</td>\n",
       "      <td>1</td>\n",
       "    </tr>\n",
       "    <tr>\n",
       "      <th>171</th>\n",
       "      <td>20ebb9de648c6df989f04d07cf273c7b3yu8c</td>\n",
       "      <td>0.0</td>\n",
       "      <td>2523</td>\n",
       "      <td>30</td>\n",
       "      <td>0</td>\n",
       "      <td>490</td>\n",
       "      <td>1</td>\n",
       "      <td>1</td>\n",
       "      <td>1</td>\n",
       "      <td>1</td>\n",
       "      <td>...</td>\n",
       "      <td>6.817240e+09</td>\n",
       "      <td>151</td>\n",
       "      <td>0</td>\n",
       "      <td>0</td>\n",
       "      <td>0</td>\n",
       "      <td>0</td>\n",
       "      <td>1</td>\n",
       "      <td>0</td>\n",
       "      <td>0</td>\n",
       "      <td>0</td>\n",
       "    </tr>\n",
       "    <tr>\n",
       "      <th>195</th>\n",
       "      <td>c48fd9c589f273945bad5f0cea5993ba2fet4</td>\n",
       "      <td>0.0</td>\n",
       "      <td>433</td>\n",
       "      <td>108</td>\n",
       "      <td>3</td>\n",
       "      <td>28</td>\n",
       "      <td>4</td>\n",
       "      <td>103</td>\n",
       "      <td>19</td>\n",
       "      <td>26</td>\n",
       "      <td>...</td>\n",
       "      <td>8.811598e+10</td>\n",
       "      <td>331</td>\n",
       "      <td>0</td>\n",
       "      <td>0</td>\n",
       "      <td>0</td>\n",
       "      <td>0</td>\n",
       "      <td>1</td>\n",
       "      <td>0</td>\n",
       "      <td>0</td>\n",
       "      <td>0</td>\n",
       "    </tr>\n",
       "    <tr>\n",
       "      <th>615</th>\n",
       "      <td>f35082c6d72f1f1be3dd23f949db1f577t6wd</td>\n",
       "      <td>1.0</td>\n",
       "      <td>1</td>\n",
       "      <td>1</td>\n",
       "      <td>0</td>\n",
       "      <td>1</td>\n",
       "      <td>1</td>\n",
       "      <td>1</td>\n",
       "      <td>1</td>\n",
       "      <td>1</td>\n",
       "      <td>...</td>\n",
       "      <td>5.263158e+07</td>\n",
       "      <td>1</td>\n",
       "      <td>0</td>\n",
       "      <td>0</td>\n",
       "      <td>0</td>\n",
       "      <td>0</td>\n",
       "      <td>1</td>\n",
       "      <td>0</td>\n",
       "      <td>0</td>\n",
       "      <td>0</td>\n",
       "    </tr>\n",
       "    <tr>\n",
       "      <th>654</th>\n",
       "      <td>9d98d3f00a0c0bddf35470b0fb735fcdhiriy</td>\n",
       "      <td>0.0</td>\n",
       "      <td>603</td>\n",
       "      <td>67</td>\n",
       "      <td>1</td>\n",
       "      <td>38</td>\n",
       "      <td>77</td>\n",
       "      <td>163</td>\n",
       "      <td>40</td>\n",
       "      <td>337</td>\n",
       "      <td>...</td>\n",
       "      <td>2.179673e+11</td>\n",
       "      <td>369</td>\n",
       "      <td>0</td>\n",
       "      <td>0</td>\n",
       "      <td>0</td>\n",
       "      <td>1</td>\n",
       "      <td>0</td>\n",
       "      <td>0</td>\n",
       "      <td>0</td>\n",
       "      <td>0</td>\n",
       "    </tr>\n",
       "    <tr>\n",
       "      <th>670</th>\n",
       "      <td>af9c96944265cf541b3fe734a057821a825l7</td>\n",
       "      <td>1.0</td>\n",
       "      <td>2390</td>\n",
       "      <td>199</td>\n",
       "      <td>14</td>\n",
       "      <td>451</td>\n",
       "      <td>315</td>\n",
       "      <td>963</td>\n",
       "      <td>78</td>\n",
       "      <td>1691</td>\n",
       "      <td>...</td>\n",
       "      <td>4.190017e+10</td>\n",
       "      <td>731</td>\n",
       "      <td>0</td>\n",
       "      <td>0</td>\n",
       "      <td>0</td>\n",
       "      <td>0</td>\n",
       "      <td>0</td>\n",
       "      <td>1</td>\n",
       "      <td>0</td>\n",
       "      <td>0</td>\n",
       "    </tr>\n",
       "    <tr>\n",
       "      <th>903</th>\n",
       "      <td>0817731a4d2e319f6f771da3f522b8bfv6njs</td>\n",
       "      <td>0.0</td>\n",
       "      <td>224</td>\n",
       "      <td>23</td>\n",
       "      <td>0</td>\n",
       "      <td>152</td>\n",
       "      <td>15</td>\n",
       "      <td>92</td>\n",
       "      <td>10</td>\n",
       "      <td>1</td>\n",
       "      <td>...</td>\n",
       "      <td>8.507519e+09</td>\n",
       "      <td>160</td>\n",
       "      <td>0</td>\n",
       "      <td>0</td>\n",
       "      <td>0</td>\n",
       "      <td>0</td>\n",
       "      <td>0</td>\n",
       "      <td>0</td>\n",
       "      <td>0</td>\n",
       "      <td>1</td>\n",
       "    </tr>\n",
       "    <tr>\n",
       "      <th>1028</th>\n",
       "      <td>42e631af9bd00e5e816f08eba3b102d5ch576</td>\n",
       "      <td>1.0</td>\n",
       "      <td>217</td>\n",
       "      <td>13</td>\n",
       "      <td>0</td>\n",
       "      <td>203</td>\n",
       "      <td>5</td>\n",
       "      <td>13</td>\n",
       "      <td>4</td>\n",
       "      <td>3</td>\n",
       "      <td>...</td>\n",
       "      <td>1.139947e+09</td>\n",
       "      <td>83</td>\n",
       "      <td>0</td>\n",
       "      <td>0</td>\n",
       "      <td>0</td>\n",
       "      <td>0</td>\n",
       "      <td>0</td>\n",
       "      <td>1</td>\n",
       "      <td>0</td>\n",
       "      <td>0</td>\n",
       "    </tr>\n",
       "    <tr>\n",
       "      <th>1136</th>\n",
       "      <td>3694aa599f836a57b671ee0814b071775i1nf</td>\n",
       "      <td>0.0</td>\n",
       "      <td>1836</td>\n",
       "      <td>167</td>\n",
       "      <td>2</td>\n",
       "      <td>533</td>\n",
       "      <td>283</td>\n",
       "      <td>914</td>\n",
       "      <td>43</td>\n",
       "      <td>731</td>\n",
       "      <td>...</td>\n",
       "      <td>2.234809e+10</td>\n",
       "      <td>599</td>\n",
       "      <td>0</td>\n",
       "      <td>0</td>\n",
       "      <td>1</td>\n",
       "      <td>0</td>\n",
       "      <td>0</td>\n",
       "      <td>0</td>\n",
       "      <td>0</td>\n",
       "      <td>0</td>\n",
       "    </tr>\n",
       "    <tr>\n",
       "      <th>1192</th>\n",
       "      <td>bb73823b1c3f577402c9aa9eabd1e412vp2xw</td>\n",
       "      <td>0.0</td>\n",
       "      <td>1404</td>\n",
       "      <td>107</td>\n",
       "      <td>10</td>\n",
       "      <td>119</td>\n",
       "      <td>171</td>\n",
       "      <td>1312</td>\n",
       "      <td>53</td>\n",
       "      <td>719</td>\n",
       "      <td>...</td>\n",
       "      <td>6.873170e+10</td>\n",
       "      <td>758</td>\n",
       "      <td>0</td>\n",
       "      <td>0</td>\n",
       "      <td>0</td>\n",
       "      <td>1</td>\n",
       "      <td>0</td>\n",
       "      <td>0</td>\n",
       "      <td>0</td>\n",
       "      <td>0</td>\n",
       "    </tr>\n",
       "    <tr>\n",
       "      <th>1291</th>\n",
       "      <td>fa9cfea85e90bec313e512e9eeab2e869tvx8</td>\n",
       "      <td>0.0</td>\n",
       "      <td>514</td>\n",
       "      <td>12</td>\n",
       "      <td>0</td>\n",
       "      <td>77</td>\n",
       "      <td>2</td>\n",
       "      <td>493</td>\n",
       "      <td>3</td>\n",
       "      <td>6</td>\n",
       "      <td>...</td>\n",
       "      <td>3.680115e+08</td>\n",
       "      <td>59</td>\n",
       "      <td>0</td>\n",
       "      <td>0</td>\n",
       "      <td>0</td>\n",
       "      <td>0</td>\n",
       "      <td>0</td>\n",
       "      <td>0</td>\n",
       "      <td>0</td>\n",
       "      <td>1</td>\n",
       "    </tr>\n",
       "    <tr>\n",
       "      <th>1443</th>\n",
       "      <td>c8f537f6bb0aa2d45da541a875f014358qm7p</td>\n",
       "      <td>1.0</td>\n",
       "      <td>15727</td>\n",
       "      <td>608</td>\n",
       "      <td>27</td>\n",
       "      <td>1912</td>\n",
       "      <td>570</td>\n",
       "      <td>6337</td>\n",
       "      <td>54</td>\n",
       "      <td>8551</td>\n",
       "      <td>...</td>\n",
       "      <td>1.040027e+11</td>\n",
       "      <td>2569</td>\n",
       "      <td>0</td>\n",
       "      <td>0</td>\n",
       "      <td>0</td>\n",
       "      <td>0</td>\n",
       "      <td>0</td>\n",
       "      <td>0</td>\n",
       "      <td>0</td>\n",
       "      <td>1</td>\n",
       "    </tr>\n",
       "    <tr>\n",
       "      <th>1462</th>\n",
       "      <td>340d7ea497f16bdb912ec5c6ce467f71kk7hy</td>\n",
       "      <td>1.0</td>\n",
       "      <td>1047</td>\n",
       "      <td>121</td>\n",
       "      <td>0</td>\n",
       "      <td>74</td>\n",
       "      <td>208</td>\n",
       "      <td>598</td>\n",
       "      <td>10</td>\n",
       "      <td>258</td>\n",
       "      <td>...</td>\n",
       "      <td>2.034563e+11</td>\n",
       "      <td>776</td>\n",
       "      <td>0</td>\n",
       "      <td>0</td>\n",
       "      <td>0</td>\n",
       "      <td>1</td>\n",
       "      <td>0</td>\n",
       "      <td>0</td>\n",
       "      <td>0</td>\n",
       "      <td>0</td>\n",
       "    </tr>\n",
       "    <tr>\n",
       "      <th>1512</th>\n",
       "      <td>9655ccc7c0c193f1549475f02c54dce45kjw7</td>\n",
       "      <td>1.0</td>\n",
       "      <td>161935</td>\n",
       "      <td>831</td>\n",
       "      <td>193</td>\n",
       "      <td>62485</td>\n",
       "      <td>1144</td>\n",
       "      <td>111918</td>\n",
       "      <td>179</td>\n",
       "      <td>226</td>\n",
       "      <td>...</td>\n",
       "      <td>2.567364e+10</td>\n",
       "      <td>5173</td>\n",
       "      <td>0</td>\n",
       "      <td>0</td>\n",
       "      <td>0</td>\n",
       "      <td>0</td>\n",
       "      <td>0</td>\n",
       "      <td>0</td>\n",
       "      <td>0</td>\n",
       "      <td>1</td>\n",
       "    </tr>\n",
       "    <tr>\n",
       "      <th>1775</th>\n",
       "      <td>c2e1242ad5ea781923a08987d55365c69fii7</td>\n",
       "      <td>1.0</td>\n",
       "      <td>20988</td>\n",
       "      <td>1018</td>\n",
       "      <td>109</td>\n",
       "      <td>936</td>\n",
       "      <td>974</td>\n",
       "      <td>9450</td>\n",
       "      <td>107</td>\n",
       "      <td>5267</td>\n",
       "      <td>...</td>\n",
       "      <td>3.835512e+10</td>\n",
       "      <td>3357</td>\n",
       "      <td>0</td>\n",
       "      <td>0</td>\n",
       "      <td>0</td>\n",
       "      <td>1</td>\n",
       "      <td>0</td>\n",
       "      <td>0</td>\n",
       "      <td>0</td>\n",
       "      <td>0</td>\n",
       "    </tr>\n",
       "    <tr>\n",
       "      <th>1891</th>\n",
       "      <td>7505bfc1ca67a5ae14e329b46a88ab869ms9g</td>\n",
       "      <td>1.0</td>\n",
       "      <td>798</td>\n",
       "      <td>85</td>\n",
       "      <td>0</td>\n",
       "      <td>57</td>\n",
       "      <td>192</td>\n",
       "      <td>442</td>\n",
       "      <td>23</td>\n",
       "      <td>446</td>\n",
       "      <td>...</td>\n",
       "      <td>1.657332e+10</td>\n",
       "      <td>277</td>\n",
       "      <td>0</td>\n",
       "      <td>0</td>\n",
       "      <td>0</td>\n",
       "      <td>1</td>\n",
       "      <td>0</td>\n",
       "      <td>0</td>\n",
       "      <td>0</td>\n",
       "      <td>0</td>\n",
       "    </tr>\n",
       "    <tr>\n",
       "      <th>1936</th>\n",
       "      <td>458c8c4e10e5c1b29e3fbe5ee56d46e8y3fb3</td>\n",
       "      <td>1.0</td>\n",
       "      <td>1165</td>\n",
       "      <td>103</td>\n",
       "      <td>0</td>\n",
       "      <td>949</td>\n",
       "      <td>166</td>\n",
       "      <td>414</td>\n",
       "      <td>37</td>\n",
       "      <td>845</td>\n",
       "      <td>...</td>\n",
       "      <td>7.323321e+09</td>\n",
       "      <td>169</td>\n",
       "      <td>0</td>\n",
       "      <td>0</td>\n",
       "      <td>0</td>\n",
       "      <td>0</td>\n",
       "      <td>0</td>\n",
       "      <td>0</td>\n",
       "      <td>0</td>\n",
       "      <td>1</td>\n",
       "    </tr>\n",
       "    <tr>\n",
       "      <th>2001</th>\n",
       "      <td>aaa686462ebb950550fc1c6136ffb273vkrc5</td>\n",
       "      <td>1.0</td>\n",
       "      <td>282</td>\n",
       "      <td>47</td>\n",
       "      <td>0</td>\n",
       "      <td>33</td>\n",
       "      <td>78</td>\n",
       "      <td>157</td>\n",
       "      <td>10</td>\n",
       "      <td>5</td>\n",
       "      <td>...</td>\n",
       "      <td>5.475932e+09</td>\n",
       "      <td>146</td>\n",
       "      <td>0</td>\n",
       "      <td>0</td>\n",
       "      <td>0</td>\n",
       "      <td>0</td>\n",
       "      <td>0</td>\n",
       "      <td>0</td>\n",
       "      <td>0</td>\n",
       "      <td>1</td>\n",
       "    </tr>\n",
       "  </tbody>\n",
       "</table>\n",
       "<p>19 rows × 25 columns</p>\n",
       "</div>"
      ],
      "text/plain": [
       "                                  bidder_id  outcome  nb_bids  nb_auctions  \\\n",
       "21    5354c02817e47f28e60e44a40ca5e48dll4sz      1.0      181           18   \n",
       "136   5960fc711b544e2617d0f76360b69e2afds2b      0.0        1            1   \n",
       "171   20ebb9de648c6df989f04d07cf273c7b3yu8c      0.0     2523           30   \n",
       "195   c48fd9c589f273945bad5f0cea5993ba2fet4      0.0      433          108   \n",
       "615   f35082c6d72f1f1be3dd23f949db1f577t6wd      1.0        1            1   \n",
       "654   9d98d3f00a0c0bddf35470b0fb735fcdhiriy      0.0      603           67   \n",
       "670   af9c96944265cf541b3fe734a057821a825l7      1.0     2390          199   \n",
       "903   0817731a4d2e319f6f771da3f522b8bfv6njs      0.0      224           23   \n",
       "1028  42e631af9bd00e5e816f08eba3b102d5ch576      1.0      217           13   \n",
       "1136  3694aa599f836a57b671ee0814b071775i1nf      0.0     1836          167   \n",
       "1192  bb73823b1c3f577402c9aa9eabd1e412vp2xw      0.0     1404          107   \n",
       "1291  fa9cfea85e90bec313e512e9eeab2e869tvx8      0.0      514           12   \n",
       "1443  c8f537f6bb0aa2d45da541a875f014358qm7p      1.0    15727          608   \n",
       "1462  340d7ea497f16bdb912ec5c6ce467f71kk7hy      1.0     1047          121   \n",
       "1512  9655ccc7c0c193f1549475f02c54dce45kjw7      1.0   161935          831   \n",
       "1775  c2e1242ad5ea781923a08987d55365c69fii7      1.0    20988         1018   \n",
       "1891  7505bfc1ca67a5ae14e329b46a88ab869ms9g      1.0      798           85   \n",
       "1936  458c8c4e10e5c1b29e3fbe5ee56d46e8y3fb3      1.0     1165          103   \n",
       "2001  aaa686462ebb950550fc1c6136ffb273vkrc5      1.0      282           47   \n",
       "\n",
       "      nb_won  max_bids  nb_devices  nb_ips  nb_countries  nb_urls  \\\n",
       "21         0        20          51      13             7        1   \n",
       "136        0         1           1       1             1        1   \n",
       "171        0       490           1       1             1        1   \n",
       "195        3        28           4     103            19       26   \n",
       "615        0         1           1       1             1        1   \n",
       "654        1        38          77     163            40      337   \n",
       "670       14       451         315     963            78     1691   \n",
       "903        0       152          15      92            10        1   \n",
       "1028       0       203           5      13             4        3   \n",
       "1136       2       533         283     914            43      731   \n",
       "1192      10       119         171    1312            53      719   \n",
       "1291       0        77           2     493             3        6   \n",
       "1443      27      1912         570    6337            54     8551   \n",
       "1462       0        74         208     598            10      258   \n",
       "1512     193     62485        1144  111918           179      226   \n",
       "1775     109       936         974    9450           107     5267   \n",
       "1891       0        57         192     442            23      446   \n",
       "1936       0       949         166     414            37      845   \n",
       "2001       0        33          78     157            10        5   \n",
       "\n",
       "                 ...              mean_react_time  unique_react_time  \\\n",
       "21               ...                 1.291073e+09                 73   \n",
       "136              ...                 0.000000e+00                  1   \n",
       "171              ...                 6.817240e+09                151   \n",
       "195              ...                 8.811598e+10                331   \n",
       "615              ...                 5.263158e+07                  1   \n",
       "654              ...                 2.179673e+11                369   \n",
       "670              ...                 4.190017e+10                731   \n",
       "903              ...                 8.507519e+09                160   \n",
       "1028             ...                 1.139947e+09                 83   \n",
       "1136             ...                 2.234809e+10                599   \n",
       "1192             ...                 6.873170e+10                758   \n",
       "1291             ...                 3.680115e+08                 59   \n",
       "1443             ...                 1.040027e+11               2569   \n",
       "1462             ...                 2.034563e+11                776   \n",
       "1512             ...                 2.567364e+10               5173   \n",
       "1775             ...                 3.835512e+10               3357   \n",
       "1891             ...                 1.657332e+10                277   \n",
       "1936             ...                 7.323321e+09                169   \n",
       "2001             ...                 5.475932e+09                146   \n",
       "\n",
       "      merchandise_books and music  merchandise_computers  \\\n",
       "21                              0                      0   \n",
       "136                             0                      0   \n",
       "171                             0                      0   \n",
       "195                             0                      0   \n",
       "615                             0                      0   \n",
       "654                             0                      0   \n",
       "670                             0                      0   \n",
       "903                             0                      0   \n",
       "1028                            0                      0   \n",
       "1136                            0                      0   \n",
       "1192                            0                      0   \n",
       "1291                            0                      0   \n",
       "1443                            0                      0   \n",
       "1462                            0                      0   \n",
       "1512                            0                      0   \n",
       "1775                            0                      0   \n",
       "1891                            0                      0   \n",
       "1936                            0                      0   \n",
       "2001                            0                      0   \n",
       "\n",
       "      merchandise_home goods  merchandise_jewelry  merchandise_mobile  \\\n",
       "21                         0                    0                   1   \n",
       "136                        0                    0                   0   \n",
       "171                        0                    0                   1   \n",
       "195                        0                    0                   1   \n",
       "615                        0                    0                   1   \n",
       "654                        0                    1                   0   \n",
       "670                        0                    0                   0   \n",
       "903                        0                    0                   0   \n",
       "1028                       0                    0                   0   \n",
       "1136                       1                    0                   0   \n",
       "1192                       0                    1                   0   \n",
       "1291                       0                    0                   0   \n",
       "1443                       0                    0                   0   \n",
       "1462                       0                    1                   0   \n",
       "1512                       0                    0                   0   \n",
       "1775                       0                    1                   0   \n",
       "1891                       0                    1                   0   \n",
       "1936                       0                    0                   0   \n",
       "2001                       0                    0                   0   \n",
       "\n",
       "      merchandise_office equipment  merchandise_others  \\\n",
       "21                               0                   0   \n",
       "136                              0                   0   \n",
       "171                              0                   0   \n",
       "195                              0                   0   \n",
       "615                              0                   0   \n",
       "654                              0                   0   \n",
       "670                              1                   0   \n",
       "903                              0                   0   \n",
       "1028                             1                   0   \n",
       "1136                             0                   0   \n",
       "1192                             0                   0   \n",
       "1291                             0                   0   \n",
       "1443                             0                   0   \n",
       "1462                             0                   0   \n",
       "1512                             0                   0   \n",
       "1775                             0                   0   \n",
       "1891                             0                   0   \n",
       "1936                             0                   0   \n",
       "2001                             0                   0   \n",
       "\n",
       "      merchandise_sporting goods  \n",
       "21                             0  \n",
       "136                            1  \n",
       "171                            0  \n",
       "195                            0  \n",
       "615                            0  \n",
       "654                            0  \n",
       "670                            0  \n",
       "903                            1  \n",
       "1028                           0  \n",
       "1136                           0  \n",
       "1192                           0  \n",
       "1291                           1  \n",
       "1443                           1  \n",
       "1462                           0  \n",
       "1512                           1  \n",
       "1775                           0  \n",
       "1891                           0  \n",
       "1936                           1  \n",
       "2001                           1  \n",
       "\n",
       "[19 rows x 25 columns]"
      ]
     },
     "execution_count": 17,
     "metadata": {},
     "output_type": "execute_result"
    }
   ],
   "source": [
    "# See the wrong prediction\n",
    "idx = np.where(Y_pred!=Y_val)\n",
    "idx = np.array(idx).reshape(-1)\n",
    "wrong_pred = val_df.iloc[idx,:]\n",
    "wrong_pred.head(20)"
   ]
  },
  {
   "cell_type": "markdown",
   "metadata": {},
   "source": [
    "We believe the reason behind the wrong identification is that many human accounts are controlled simultaneously by many users, which results in quick reaction, lots of bids, lots of devices and urls, etc., features that is trademarks of robots.\n",
    "\n",
    "To see the effect of imbalanced class, we can plot the ROC curve"
   ]
  },
  {
   "cell_type": "code",
   "execution_count": 22,
   "metadata": {},
   "outputs": [
    {
     "data": {
      "text/plain": [
       "<matplotlib.axes._subplots.AxesSubplot at 0x7efed7052160>"
      ]
     },
     "execution_count": 22,
     "metadata": {},
     "output_type": "execute_result"
    },
    {
     "data": {
      "text/plain": [
       "<Figure size 720x360 with 0 Axes>"
      ]
     },
     "metadata": {},
     "output_type": "display_data"
    },
    {
     "data": {
      "image/png": "[encoded data removed]",
      "text/plain": [
       "<Figure size 432x288 with 1 Axes>"
      ]
     },
     "metadata": {},
     "output_type": "display_data"
    }
   ],
   "source": [
    "plt.figure(figsize=(10,5))\n",
    "skplt.metrics.plot_roc_curve(Y_val, Y_pred_proba)"
   ]
  },
  {
   "cell_type": "markdown",
   "metadata": {},
   "source": [
    "<a id=\"ch5.2\"></a>\n",
    "### 5.2. Features importance\n",
    "\n",
    "Throughout the processing step, we have attracted a lot of new features. Now let's see how each feature contribute to the classification result"
   ]
  },
  {
   "cell_type": "code",
   "execution_count": 24,
   "metadata": {},
   "outputs": [
    {
     "data": {
      "image/png": "[encoded data removed]",
      "text/plain": [
       "<Figure size 720x360 with 1 Axes>"
      ]
     },
     "metadata": {},
     "output_type": "display_data"
    }
   ],
   "source": [
    "features_imp = pd.DataFrame()\n",
    "features_imp['features'] = list(train)[2:]\n",
    "features_imp['importance'] = clf_chosen.feature_importances_\n",
    "features_imp = features_imp.sort_values(by='importance', ascending=False).reset_index()\n",
    "\n",
    "y = -np.arange(10)\n",
    "plt.figure(figsize=(10,5))\n",
    "plt.barh(y, features_imp.loc[:9,'importance'].values)\n",
    "plt.yticks(y,(features_imp.loc[:9,'features']))\n",
    "plt.xlabel('Feature importance')\n",
    "plt.tight_layout()"
   ]
  },
  {
   "cell_type": "markdown",
   "metadata": {},
   "source": [
    "It can be seen that **`mean_react_time`** is the most important feature, which intuitive makes sense since in general reaction speed is one of the main feature that tells the difference between machine and human. Some other important features are **`ratio_main_url`** and **`max_bids`** and **`mean_action_time`**"
   ]
  },
  {
   "cell_type": "markdown",
   "metadata": {},
   "source": [
    "<a id=\"ch5.3\"></a>\n",
    "### 5.3. Conclusion\n",
    "\n",
    "In this note book we present our approach to classify human/robot in an online auction platform. After extracting features from all the bids and using XGBoost algorithm, we achieve a validation score of **95%**. However, the value achieved on Kaggle submission site is only **73%** (top 60%). The reason behind this error is that lots of human user has characteristics behavior similar to that of robots, and the training data is highly unbalanced with lots of human and very few robots. We try to solve this problem by using an ensemble algorithm like XGBoost and upsample the training data. The final results reveals that the **react time**, **number of bids in an auction** and **action time** of the bidders are the most important features to distinguish between human and robots."
   ]
  }
 ],
 "metadata": {
  "kernelspec": {
   "display_name": "Python 3",
   "language": "python",
   "name": "python3"
  },
  "language_info": {
   "codemirror_mode": {
    "name": "ipython",
    "version": 3
   },
   "file_extension": ".py",
   "mimetype": "text/x-python",
   "name": "python",
   "nbconvert_exporter": "python",
   "pygments_lexer": "ipython3",
   "version": "3.5.5"
  },
  "widgets": {
   "state": {},
   "version": "1.1.2"
  }
 },
 "nbformat": 4,
 "nbformat_minor": 2
}
